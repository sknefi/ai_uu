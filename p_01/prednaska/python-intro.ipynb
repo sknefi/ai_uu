{
 "cells": [
  {
   "cell_type": "markdown",
   "id": "4632f002-562f-499d-b869-d86ce19cbe47",
   "metadata": {
    "tags": []
   },
   "source": [
    "# Úvod do Pythonu"
   ]
  },
  {
   "cell_type": "markdown",
   "id": "9d56be5f-1aa9-40f6-8739-62600178b9c0",
   "metadata": {},
   "source": [
    "Tento Jupyter notebook slouží jako úvod do syntaxe jazyka Python\n",
    "\n",
    "Pro detailnější poznání jazyka bude nezbytné nahlédnou i do [dokumentace Pythonu](https://docs.python.org/3/) nebo dokumentace jednotlivých knihoven\n",
    "\n",
    "pár tipů: \n",
    "- vnořené struktury se definují odskočením (4 mezery x TAB - see Silicon Valey)\n",
    "- číslujeme od 0!\n",
    "\n",
    "\n",
    "pro zkratky Jupyter Notebooku stiskněte 'h'"
   ]
  },
  {
   "cell_type": "markdown",
   "id": "2b1c6929",
   "metadata": {},
   "source": [
    "## Python jako kalkulačka\n",
    "---\n",
    "\n",
    "V Pythonu lze do příkazové řádky psát libovolné aritmetické matematické příkazy (+, -, *, /, **, //, %), jejich vykonání zde v Jupyteru docílíme zmáčknutím Shift + Enter, nad příslušným blokem.\n",
    "Pod ním se objeví strojový výpis  - výsledek posledního příkazu.  "
   ]
  },
  {
   "cell_type": "code",
   "execution_count": null,
   "id": "3cd968e4-41d0-4c51-9fdf-18b5a26fcd51",
   "metadata": {},
   "outputs": [],
   "source": [
    "32 + 5    # a tohle je komentar, kdyby to nebylo jasne \n",
    "32 - 5"
   ]
  },
  {
   "cell_type": "markdown",
   "id": "ec2da3c5-b405-48fd-9c62-08d5b7ff11a3",
   "metadata": {},
   "source": [
    "Pozor na desetinná čísla"
   ]
  },
  {
   "cell_type": "code",
   "execution_count": null,
   "id": "15199e4f-41f7-4be8-861e-29399f21fc41",
   "metadata": {},
   "outputs": [],
   "source": [
    "10.0 + 5"
   ]
  },
  {
   "cell_type": "markdown",
   "id": "c6d6baa6-135d-4d09-83be-0bf957198636",
   "metadata": {},
   "source": [
    "## Proměnné\n",
    "---\n",
    "Raději bez diakritiky. Case sensitive! Začínají vždy písmenem!  "
   ]
  },
  {
   "cell_type": "code",
   "execution_count": null,
   "id": "bff7bc9f-4abe-49d8-9454-9b820f28c104",
   "metadata": {},
   "outputs": [],
   "source": [
    "vaha = 84\n",
    "vyska = 178\n",
    "index = vaha * vyska\n",
    "index"
   ]
  },
  {
   "cell_type": "markdown",
   "id": "c8b322d8-41a7-459e-a337-ac9933af0b19",
   "metadata": {},
   "source": [
    "vypsání hodnoty proměnné "
   ]
  },
  {
   "cell_type": "code",
   "execution_count": null,
   "id": "4f4c463c-74c3-4f00-bcf1-bf841569722f",
   "metadata": {},
   "outputs": [],
   "source": [
    "vaha = 100\n",
    "print(vaha)"
   ]
  },
  {
   "cell_type": "markdown",
   "id": "ac4244ae-9e37-455d-95bd-4feea921fcb2",
   "metadata": {},
   "source": [
    "### typ proměnné"
   ]
  },
  {
   "cell_type": "code",
   "execution_count": null,
   "id": "08ee827a-9b6e-4674-aed3-b498aeb5a98b",
   "metadata": {},
   "outputs": [],
   "source": [
    "type(vaha)"
   ]
  },
  {
   "cell_type": "markdown",
   "id": "e6807b9e-f383-4369-9fd6-325d840eeb22",
   "metadata": {},
   "source": [
    "a jde to i takto"
   ]
  },
  {
   "cell_type": "code",
   "execution_count": null,
   "id": "2b86e543-5700-43f4-bf86-435b8190803f",
   "metadata": {},
   "outputs": [],
   "source": [
    "vaha += 1\n",
    "vaha"
   ]
  },
  {
   "cell_type": "markdown",
   "id": "1f92abfc-121e-4a32-b3b0-0999546c2b11",
   "metadata": {},
   "source": [
    "## Matematické výrazivo\n",
    "---"
   ]
  },
  {
   "cell_type": "code",
   "execution_count": null,
   "id": "0fff9b62-26f4-434d-aa18-1d2a96fb2602",
   "metadata": {},
   "outputs": [],
   "source": [
    "10 < 5"
   ]
  },
  {
   "cell_type": "markdown",
   "id": "18b5396f-11f2-4481-b3bc-bd13c8ce4973",
   "metadata": {},
   "source": [
    "Je číslo dělitelné 3 a zároveň mezi 100 a 200? "
   ]
  },
  {
   "cell_type": "code",
   "execution_count": null,
   "id": "b5a105f6-ed0f-4e77-8359-3f929f99de90",
   "metadata": {},
   "outputs": [],
   "source": [
    "cislo = 123\n",
    "(123 % 3 == 0) and (cislo > 100) and not (cislo >= 200) "
   ]
  },
  {
   "cell_type": "markdown",
   "id": "d6adcd0e-11de-4ed7-80ae-60900395d008",
   "metadata": {},
   "source": [
    "## Řetězce\n",
    "---"
   ]
  },
  {
   "cell_type": "code",
   "execution_count": null,
   "id": "e3e0e7a0-61b3-4746-84f0-3f5bc0d631f3",
   "metadata": {},
   "outputs": [],
   "source": [
    "jmeno = \"Zbyhnev\"\n",
    "prijmeni = 'Klokta'\n",
    "iq = 123\n",
    "\n",
    "print(\"Obcan\", jmeno, prijmeni, \"rozhodne nema IQ\", iq )\n"
   ]
  },
  {
   "cell_type": "markdown",
   "id": "e8ddf621-9d64-4dee-a223-4177784843f7",
   "metadata": {},
   "source": [
    "### Délka řetězce"
   ]
  },
  {
   "cell_type": "code",
   "execution_count": null,
   "id": "85ffa6dc-9d8f-4452-a057-7768f91a5efe",
   "metadata": {
    "scrolled": true
   },
   "outputs": [],
   "source": [
    "len(prijmeni)"
   ]
  },
  {
   "cell_type": "markdown",
   "id": "f3494df7",
   "metadata": {},
   "source": [
    "konverze"
   ]
  },
  {
   "cell_type": "code",
   "execution_count": null,
   "id": "a12bfcc9",
   "metadata": {
    "scrolled": true
   },
   "outputs": [],
   "source": [
    "a = \"63\"\n",
    "b = int(a)\n",
    "print(type(b), b)"
   ]
  },
  {
   "cell_type": "code",
   "execution_count": null,
   "id": "33d6f39a",
   "metadata": {},
   "outputs": [],
   "source": [
    "a = 63\n",
    "b = str(a)\n",
    "print(type(b), b)"
   ]
  },
  {
   "cell_type": "markdown",
   "id": "9687564b-2063-4dd5-b077-4b9078206f2c",
   "metadata": {},
   "source": [
    "### Přístup k jednotlivým písmenům a částem řetězce, + sloučení řetězce "
   ]
  },
  {
   "cell_type": "code",
   "execution_count": null,
   "id": "a3f7377f-5209-43ba-b634-173c00f43f95",
   "metadata": {},
   "outputs": [],
   "source": [
    "print(jmeno[0] + \"bude tu jen\", jmeno[3:7])"
   ]
  },
  {
   "cell_type": "markdown",
   "id": "a500d269-fde1-45dd-85a7-e906c61af93d",
   "metadata": {},
   "source": [
    "### Pozor! Jednou vytvořené žetězce nelze měnit! "
   ]
  },
  {
   "cell_type": "code",
   "execution_count": null,
   "id": "429f5e96-700b-4850-8e04-1ca2de804cd6",
   "metadata": {},
   "outputs": [],
   "source": [
    "prijmeni[0] = 'a'"
   ]
  },
  {
   "cell_type": "markdown",
   "id": "b9235672-0cdb-4041-9254-0a5f122c37d2",
   "metadata": {},
   "source": [
    "### A co udělá tohle? "
   ]
  },
  {
   "cell_type": "code",
   "execution_count": null,
   "id": "5f4a476c-ddde-4919-8eac-fb4b5d27998c",
   "metadata": {},
   "outputs": [],
   "source": [
    "jmeno * 2"
   ]
  },
  {
   "cell_type": "markdown",
   "id": "83e2b2f5-1a64-4be5-b5ab-bb7404f45b92",
   "metadata": {},
   "source": [
    "## Funkce\n",
    "---\n",
    "i pokud nemá žádné parametry, je třeba použít závorky"
   ]
  },
  {
   "cell_type": "code",
   "execution_count": null,
   "id": "19892e3f-a4d9-4ce7-a0a7-f14be7cbb135",
   "metadata": {},
   "outputs": [],
   "source": [
    "def obsah(a, b):\n",
    "    s = a * b\n",
    "    return s\n",
    "\n",
    "\n",
    "obsah(11, 20)"
   ]
  },
  {
   "cell_type": "markdown",
   "id": "d278adb3-853d-4cf4-80b3-41d3e1e551ba",
   "metadata": {},
   "source": [
    "Předdefinované hodnoty"
   ]
  },
  {
   "cell_type": "code",
   "execution_count": null,
   "id": "9cc96037-0f88-4d36-8fb2-79755a5f81e7",
   "metadata": {},
   "outputs": [],
   "source": [
    "def obsah(a=1, b=1):\n",
    "    s = a * b\n",
    "    return s\n",
    "\n",
    "\n",
    "obsah(11)"
   ]
  },
  {
   "cell_type": "markdown",
   "id": "fa58fd6b-a80e-48e6-8d99-22523e79b217",
   "metadata": {},
   "source": [
    "A co tohle? "
   ]
  },
  {
   "cell_type": "code",
   "execution_count": null,
   "id": "8a4cdfe4-a3ac-4646-9b66-0390c98222db",
   "metadata": {},
   "outputs": [],
   "source": [
    "a = 10 \n",
    "\n",
    "def f():\n",
    "    a = 30\n",
    "    return a \n",
    "\n",
    "f()\n",
    "\n",
    "print(a)"
   ]
  },
  {
   "cell_type": "markdown",
   "id": "6aaccfb3-0943-428c-af95-bb699f90959f",
   "metadata": {},
   "source": [
    "Pozóór... taky nic!  Ale u složitějších objektů se hodnota přepíše!"
   ]
  },
  {
   "cell_type": "code",
   "execution_count": null,
   "id": "5bc7a7d9-b50e-41b8-b606-e6f004a060d8",
   "metadata": {},
   "outputs": [],
   "source": [
    "a = 10 \n",
    "def f(a):\n",
    "    a = a + 1\n",
    "    return a \n",
    "\n",
    "f(a)\n",
    "print(a)"
   ]
  },
  {
   "cell_type": "code",
   "execution_count": null,
   "id": "ebc41d5f",
   "metadata": {},
   "outputs": [],
   "source": []
  },
  {
   "cell_type": "markdown",
   "id": "55dd3f21-4ca6-49f2-9257-c00b7bf580c5",
   "metadata": {
    "tags": []
   },
   "source": [
    "## Objekty\n",
    "---\n",
    "V Pythonu je vše objekt \n",
    "\n",
    "Objekt pro nás nebude nic víc než kontejner na proměnné"
   ]
  },
  {
   "cell_type": "code",
   "execution_count": null,
   "id": "eeb85a06-1524-41a0-9750-60b13e042188",
   "metadata": {},
   "outputs": [],
   "source": [
    "class Osoba:\n",
    "    def __init__(self, jmeno, prijmeni):\n",
    "        self.jmeno = jmeno \n",
    "        self.prijmeni = prijmeni\n",
    "    def tisk(self):\n",
    "        print(self.jmeno, self.prijmeni)"
   ]
  },
  {
   "cell_type": "markdown",
   "id": "444b9710-0c25-4b73-a933-9e71a94fbd92",
   "metadata": {},
   "source": [
    "(u základních objektů jako int nemusíme používat objektové konstrukce, stačí a = 10), ale jinak"
   ]
  },
  {
   "cell_type": "code",
   "execution_count": null,
   "id": "f5fba3a6-29b7-475e-befe-e910fccada10",
   "metadata": {},
   "outputs": [],
   "source": [
    "stopar = Osoba(\"Arthur\", \"Dent\")\n",
    "stopar.tisk()"
   ]
  },
  {
   "cell_type": "markdown",
   "id": "704dde35-f5cd-41e9-98cf-ff4ba31d07b4",
   "metadata": {},
   "source": [
    "Můžeme přistoupit ke všem atributům! Pozor na to!"
   ]
  },
  {
   "cell_type": "code",
   "execution_count": null,
   "id": "e913a2c2-ef17-4bf8-9c5f-11157c33a19a",
   "metadata": {},
   "outputs": [],
   "source": [
    "print(stopar.jmeno)"
   ]
  },
  {
   "cell_type": "code",
   "execution_count": null,
   "id": "4853022a-a872-4285-834f-9834285cbba3",
   "metadata": {},
   "outputs": [],
   "source": [
    "stopar.jmeno = \"Zafod\"\n",
    "stopar.tisk()"
   ]
  },
  {
   "cell_type": "markdown",
   "id": "28799956-36a4-4fa2-ba37-a5e140a4d291",
   "metadata": {},
   "source": [
    "Co bychom nečekali? "
   ]
  },
  {
   "cell_type": "code",
   "execution_count": null,
   "id": "0229a5f0-6d73-45af-b81d-a422484074d7",
   "metadata": {},
   "outputs": [],
   "source": [
    "stopar.odpoved = 42\n",
    "print(stopar.odpoved)"
   ]
  },
  {
   "cell_type": "raw",
   "id": "ace390f8-8ec2-4af3-a041-7a5b5078c132",
   "metadata": {},
   "source": [
    "__xyz__()   na to nešahej Šmudlo!"
   ]
  },
  {
   "cell_type": "code",
   "execution_count": null,
   "id": "926d1bee-cb7b-4a0e-9ecd-21b881c6a341",
   "metadata": {},
   "outputs": [],
   "source": []
  },
  {
   "cell_type": "markdown",
   "id": "619c86b7-2208-4d66-87db-915784c53ead",
   "metadata": {},
   "source": [
    "## Seznamy\n",
    "---"
   ]
  },
  {
   "cell_type": "code",
   "execution_count": null,
   "id": "739bf248-615a-48c4-8086-c6b23405efa7",
   "metadata": {},
   "outputs": [],
   "source": [
    "prvocisla = [2, 3, 5, 7, 11, 13]\n",
    "prvocisla"
   ]
  },
  {
   "cell_type": "markdown",
   "id": "3b9c7d1e-88aa-4c56-b7e4-9cb46b05874c",
   "metadata": {},
   "source": [
    "Jsou mutabilní narozdíl od řetězců"
   ]
  },
  {
   "cell_type": "code",
   "execution_count": null,
   "id": "273fba4c-7c8e-4419-9bc5-9f61511fe209",
   "metadata": {},
   "outputs": [],
   "source": [
    "prvocisla[5] = 17\n",
    "prvocisla"
   ]
  },
  {
   "cell_type": "code",
   "execution_count": null,
   "id": "299773b4-9edd-4b1e-928d-c5ebea1de121",
   "metadata": {},
   "outputs": [],
   "source": [
    "prvocisla.append(19)\n",
    "prvocisla"
   ]
  },
  {
   "cell_type": "markdown",
   "id": "be438f10-62a7-401c-9a2e-89bcb9cacc85",
   "metadata": {},
   "source": [
    "Libovolný kočkopes"
   ]
  },
  {
   "cell_type": "code",
   "execution_count": null,
   "id": "c2938efd-bfcd-4e11-be09-e56cdd18ba64",
   "metadata": {},
   "outputs": [],
   "source": [
    "x = [\"kočka\", 13, \"pes\", 15.4]\n",
    "x"
   ]
  },
  {
   "cell_type": "markdown",
   "id": "45406af2-b094-4560-953f-21c57ddd60fb",
   "metadata": {},
   "source": [
    "## N-tice \n",
    "---\n",
    "Nemutovatelná n-tice"
   ]
  },
  {
   "cell_type": "code",
   "execution_count": null,
   "id": "c4d059f9-e186-4243-ab7e-c0654f0888b0",
   "metadata": {},
   "outputs": [],
   "source": [
    "bodxyz = (100, 110, 120)\n",
    "jinybodxyz = 101, 111, 121\n",
    "\n",
    "# u funkce, ktera vraci n-tici, lze psat x, y, z = f() \n"
   ]
  },
  {
   "cell_type": "markdown",
   "id": "b8623ed4-aeba-43de-92dc-53d97e958cb1",
   "metadata": {},
   "source": [
    "Jako u pole"
   ]
  },
  {
   "cell_type": "code",
   "execution_count": null,
   "id": "ec7b8c2a-2000-4aaa-bd3f-9dc29f7b9e5b",
   "metadata": {},
   "outputs": [],
   "source": [
    "bodxyz[0]"
   ]
  },
  {
   "cell_type": "markdown",
   "id": "8f0d6412-81dd-409a-919a-38625dd76dda",
   "metadata": {},
   "source": [
    "## Slovník\n",
    "---"
   ]
  },
  {
   "cell_type": "code",
   "execution_count": null,
   "id": "4a70ef8f-a056-422a-acb1-439aca71f4c0",
   "metadata": {},
   "outputs": [],
   "source": [
    "byty = {\"petr\": 2 , \"jana\": 5, \"andrea\": 7}\n",
    "byty[\"jana\"]"
   ]
  },
  {
   "cell_type": "code",
   "execution_count": null,
   "id": "48dfe940-6ffc-4c16-8206-758672c044ea",
   "metadata": {},
   "outputs": [],
   "source": [
    "print(byty)"
   ]
  },
  {
   "cell_type": "code",
   "execution_count": null,
   "id": "d7a79895-acd8-4673-b4e2-ff273e17e726",
   "metadata": {},
   "outputs": [],
   "source": []
  },
  {
   "cell_type": "markdown",
   "id": "673cc37b-f6ec-4e95-be95-396ad45bf924",
   "metadata": {},
   "source": [
    "## Množiny\n",
    "---"
   ]
  },
  {
   "cell_type": "markdown",
   "id": "3d9aadb1-2b64-45f4-af91-52e81595d7d0",
   "metadata": {},
   "source": [
    "Prázdná množina"
   ]
  },
  {
   "cell_type": "code",
   "execution_count": null,
   "id": "3081c2e8-4b8f-4874-a2a8-0f8d29ce1f80",
   "metadata": {},
   "outputs": [],
   "source": [
    "s = set()"
   ]
  },
  {
   "cell_type": "code",
   "execution_count": null,
   "id": "bc83d930-0064-4d9a-951c-3f9d36b1f32d",
   "metadata": {},
   "outputs": [],
   "source": [
    "nakup = {\"jabko\", \"hruska\", \"pomeranc\", \"avokado\"}\n",
    "print(nakup)"
   ]
  },
  {
   "cell_type": "markdown",
   "id": "9e9d111c-d898-441e-bc7e-411bb577095e",
   "metadata": {},
   "source": [
    "Přidání a odebrání"
   ]
  },
  {
   "cell_type": "code",
   "execution_count": null,
   "id": "07abcd11-efa0-4282-b107-7f783fc1508c",
   "metadata": {},
   "outputs": [],
   "source": [
    "nakup.add(\"tahini-pasta\")\n",
    "nakup.remove(\"avokado\")\n",
    "print(nakup)"
   ]
  },
  {
   "cell_type": "code",
   "execution_count": null,
   "id": "78fc3be4-cfd2-440e-b4e4-8068e91a774a",
   "metadata": {},
   "outputs": [],
   "source": [
    "\"hruska\" in nakup"
   ]
  },
  {
   "cell_type": "markdown",
   "id": "c69959c8-443a-444f-bd99-f4bca4aabcab",
   "metadata": {},
   "source": [
    "Množinové operace"
   ]
  },
  {
   "cell_type": "code",
   "execution_count": null,
   "id": "d389d7f6-88d0-4c92-992d-1680ae8c0e84",
   "metadata": {},
   "outputs": [],
   "source": [
    "a = set(\"12345\")\n",
    "b = set(\"2357\")\n",
    "\n",
    "a & b  # prunik\n",
    "a | b  # sjednoceni\n",
    "a - b  # rozdil\n",
    "a ^ b  # xor\n"
   ]
  },
  {
   "cell_type": "markdown",
   "id": "4c08516d-33bd-40aa-86bc-0813ae8bb734",
   "metadata": {
    "tags": []
   },
   "source": [
    "## Kontrola běhu\n",
    "---"
   ]
  },
  {
   "cell_type": "markdown",
   "id": "cd2e7d22-34fd-4db2-a253-93c7acd445f5",
   "metadata": {},
   "source": [
    "### if-elif-else"
   ]
  },
  {
   "cell_type": "code",
   "execution_count": null,
   "id": "f50e1dae-3eab-482e-931b-d5ff0a4132ba",
   "metadata": {},
   "outputs": [],
   "source": [
    "vek = 20\n",
    "\n",
    "if vek < 26:\n",
    "    print(\"Mate narok na studentskou slevu\")\n",
    "elif vek > 70:\n",
    "    print(\"Mate narok na slevu\")\n",
    "else: \n",
    "    print(\"Nemate narok na slevu\")"
   ]
  },
  {
   "cell_type": "markdown",
   "id": "170d39ba-c6b4-4de9-81c2-696f30c1f2f2",
   "metadata": {},
   "source": [
    "### cyklus for"
   ]
  },
  {
   "cell_type": "code",
   "execution_count": null,
   "id": "9dbc0fa5-646b-4ca6-8cc8-b57513e06254",
   "metadata": {},
   "outputs": [],
   "source": [
    "seznam = [\"rohliky\", \"majoneza\", \"syrecky\", \"adblue\"]\n",
    "for polozka in seznam:\n",
    "    print(polozka)"
   ]
  },
  {
   "cell_type": "markdown",
   "id": "7e54fa29-bf67-426f-a383-46dc293861ca",
   "metadata": {},
   "source": [
    "cyklus přes čísla, pozor na rozsah!!!"
   ]
  },
  {
   "cell_type": "code",
   "execution_count": null,
   "id": "d32499fa-8550-4075-9705-84b6e192346d",
   "metadata": {
    "tags": []
   },
   "outputs": [],
   "source": [
    "for cislo in range(0, 6): \n",
    "    print(cislo)"
   ]
  },
  {
   "cell_type": "code",
   "execution_count": null,
   "id": "8b2f2ff6-5fe2-4be7-8f94-de4782ce29b1",
   "metadata": {},
   "outputs": [],
   "source": [
    "for cislo in range(2, 10, 2):   # s nastavenim skoku \n",
    "    print(cislo)"
   ]
  },
  {
   "cell_type": "markdown",
   "id": "cd711550-8131-43e4-87a3-ef0952e6c91d",
   "metadata": {},
   "source": [
    "### while cyklus"
   ]
  },
  {
   "cell_type": "code",
   "execution_count": null,
   "id": "c5bf3d53-c160-4834-b5b9-771b4b54fb45",
   "metadata": {},
   "outputs": [],
   "source": [
    "x = 0\n",
    "while x <= 5:\n",
    "    print(x)\n",
    "    x = x + 1\n"
   ]
  },
  {
   "cell_type": "code",
   "execution_count": null,
   "id": "70f8e763-9797-462c-afab-f0cea1ca7bd1",
   "metadata": {},
   "outputs": [],
   "source": []
  },
  {
   "cell_type": "code",
   "execution_count": null,
   "id": "8b07aa3d-61d0-41dd-84f8-e334fb60926d",
   "metadata": {},
   "outputs": [],
   "source": []
  },
  {
   "cell_type": "code",
   "execution_count": null,
   "id": "14cc6637-e96f-4925-9f51-bee0595cd107",
   "metadata": {},
   "outputs": [],
   "source": []
  },
  {
   "cell_type": "markdown",
   "id": "aa298ef6-4ba7-439b-bec4-869799ea47e9",
   "metadata": {
    "tags": []
   },
   "source": [
    "## List comprehensions\n",
    "---"
   ]
  },
  {
   "cell_type": "markdown",
   "id": "d0e766fd-3917-4a7c-a5db-d38342fcec75",
   "metadata": {},
   "source": [
    "Seznam druhých mocnin"
   ]
  },
  {
   "cell_type": "code",
   "execution_count": null,
   "id": "8fbcb336-c7c5-42f1-98c2-b0ad6c01ce7f",
   "metadata": {},
   "outputs": [],
   "source": [
    "mocniny = []\n",
    "for x in range (10):\n",
    "    mocniny.append(x*x)\n",
    "\n",
    "print(mocniny)"
   ]
  },
  {
   "cell_type": "markdown",
   "id": "b65dc72a-cce4-42c8-9d50-e8d225c5ec4a",
   "metadata": {},
   "source": [
    "Anebo jednodušeji"
   ]
  },
  {
   "cell_type": "code",
   "execution_count": null,
   "id": "1281cd79-2ecb-46a5-b96c-c9387c7f57ad",
   "metadata": {},
   "outputs": [],
   "source": [
    "mocniny = [x*x for x in range(10)]\n",
    "\n",
    "print(mocniny)"
   ]
  },
  {
   "cell_type": "markdown",
   "id": "109df98f-fd5a-42dc-83e3-daf5268749fb",
   "metadata": {},
   "source": [
    "Jde to i s dvojicemi"
   ]
  },
  {
   "cell_type": "code",
   "execution_count": null,
   "id": "d4ea1535-518a-4d37-89b6-1b343e677f27",
   "metadata": {},
   "outputs": [],
   "source": [
    "prvky = ['A', 'B', 'C']\n",
    "seznam = [(x, y) for x in prvky for y in prvky]\n",
    "\n",
    "print(seznam)"
   ]
  },
  {
   "cell_type": "code",
   "execution_count": null,
   "id": "d537502a-0c4b-486b-b640-82c612a35aa2",
   "metadata": {},
   "outputs": [],
   "source": []
  },
  {
   "cell_type": "markdown",
   "id": "01cfa465-b1a8-4944-a8d2-125d19c9922d",
   "metadata": {},
   "source": [
    "## Moduly\n",
    "---\n",
    "moduly importujeme pomocí klíčového slova import"
   ]
  },
  {
   "cell_type": "code",
   "execution_count": null,
   "id": "a10f175c-bf1b-4130-bffa-ed192752213d",
   "metadata": {},
   "outputs": [],
   "source": [
    "import math # modul je soucasti standardni knihovny Pythonu"
   ]
  },
  {
   "cell_type": "code",
   "execution_count": null,
   "id": "248fe3e6-c109-4fc1-beee-6f268aa8f82c",
   "metadata": {},
   "outputs": [],
   "source": [
    "print(math.pi)  # musime Pythonu rict, co je z ktereho modulu"
   ]
  },
  {
   "cell_type": "markdown",
   "id": "0d958a0a-91c6-42e7-b5af-b98d8bfcecdf",
   "metadata": {},
   "source": [
    "můžeme to i zkrátit, pokud nechceme stále psát math"
   ]
  },
  {
   "cell_type": "code",
   "execution_count": null,
   "id": "7afb9e0b-1355-4522-8ea1-9b1aa73c48dc",
   "metadata": {},
   "outputs": [],
   "source": [
    "import math as m\n",
    "print(m.pi)"
   ]
  },
  {
   "cell_type": "markdown",
   "id": "82af732e-3a7b-4cc7-b2f8-7c0358e3e17f",
   "metadata": {},
   "source": [
    "a nebo si můžeme přidat pi do našeho namespacu, ale pozor, aby nám to nekolidovalo s již existujícími!!!"
   ]
  },
  {
   "cell_type": "code",
   "execution_count": null,
   "id": "d1cf2688-f323-4719-ab6e-abaae76f5ccc",
   "metadata": {},
   "outputs": [],
   "source": [
    "from math import pi\n",
    "print(pi)"
   ]
  },
  {
   "cell_type": "markdown",
   "id": "29dab74e-f50a-46d7-a1fd-5d83fda1fcad",
   "metadata": {},
   "source": [
    "všechno bychom z modulu naimportovali pomocí from xyz import *, co se ale nedoporučuje"
   ]
  },
  {
   "cell_type": "markdown",
   "id": "a3a499d3-8580-4125-b6ca-563920ab7e73",
   "metadata": {},
   "source": [
    "co vše je v modulu se dozvíme takto"
   ]
  },
  {
   "cell_type": "code",
   "execution_count": null,
   "id": "b6d5b128-275d-4e30-a03c-a78f5a180e42",
   "metadata": {},
   "outputs": [],
   "source": [
    "dir(math)"
   ]
  },
  {
   "cell_type": "markdown",
   "id": "a14eb82a-2296-4b52-85ad-9eae14558acc",
   "metadata": {},
   "source": [
    "Modul je typicky soubor s příponou \".py\". Pokud má modul podmoduly, používáme tečkovou notaci, která kopíruje adresářovou strukturu uložení souborů modulu"
   ]
  },
  {
   "cell_type": "code",
   "execution_count": null,
   "id": "ea3997f8-1d42-40e0-a72a-3f357feb5a1d",
   "metadata": {},
   "outputs": [],
   "source": [
    "import matplotlib.pyplot "
   ]
  },
  {
   "cell_type": "code",
   "execution_count": null,
   "id": "af5b95fc-50fe-445c-8e39-b384ec5b163b",
   "metadata": {},
   "outputs": [],
   "source": []
  },
  {
   "cell_type": "markdown",
   "id": "1a05f4af-6d59-4d36-b565-5d0c07d462d1",
   "metadata": {},
   "source": [
    "## Tipy na syntax\n",
    "---\n",
    "\n",
    "- Používejte 4 mezery na odskok bloku\n",
    "- Víceřádkové příkazy by se měly zalamovat tak, aby pod sebou byly odpovídající elementy.\n",
    "- Používejte srozumitelné názvy proměnných, abyste se pak v nich vyznali i když několik dní kód nevidíte\n",
    "- Nepoužívejte diakritiku.\n",
    "- Používejte v matematických výrazech závorky pro větší přehlednost.\n",
    "- Mezi závorkami a před čárkou nepište mezery tedy správně (a + b) a ne ( a + b ). Nebo funkce(a, b) a nikoli funkce( a , b )\n",
    "- Také nepište mezery před dvojtečkou, tedy for i in seznam: a nikoli for i in seznam :\n",
    "- Matematické operátory oddělujte mezerou, tedy a = 10 + c a nikoli a=10+c ale zase se například více hodí a + 10∗b než a + 10 ∗ b.\n",
    "- Jakmile používáte nějaký kus kódu opakovaně, je lepší si z něj udělat funkci\n",
    "- Používejte v textu komentáře, pro ozřejmení kódu. Nekomentujte ale triviální záležitosti jako a = a + 1 #pricte jednicku.\n",
    "- Používejte prázdné řádky pro vizuální členění kódu.\n",
    "- Importy modulů dávejte na začátek souboru. Nepoužívejte import všeho pomocí ∗\n",
    "- Některá písmena se pletou malé l a jednička, velké O a nula! Raději se jim vyhněte.\n",
    "- Nepoužívejte pro proměnné názvy (klíčová slova), se kterými pracuje Python, v kódu jsou typicky barevně vyznačeny (zeleně): for, else, if, while, and, or, return apod.\n",
    "- U nastavení parametrů ve volání funkce se nepoužívají mezery print(end='.')."
   ]
  },
  {
   "cell_type": "code",
   "execution_count": null,
   "id": "8e21010f-4331-401d-964a-739115a14ee6",
   "metadata": {},
   "outputs": [],
   "source": []
  },
  {
   "cell_type": "code",
   "execution_count": null,
   "id": "6f31507b-13d4-43c5-8e03-31908febbb90",
   "metadata": {},
   "outputs": [],
   "source": []
  },
  {
   "cell_type": "code",
   "execution_count": null,
   "id": "26008362-eb46-4565-ac4c-c05917a33710",
   "metadata": {},
   "outputs": [],
   "source": []
  },
  {
   "cell_type": "code",
   "execution_count": null,
   "id": "b79e947b-2e6e-41eb-b0eb-4aa0d60c4db7",
   "metadata": {},
   "outputs": [],
   "source": []
  }
 ],
 "metadata": {
  "kernelspec": {
   "display_name": "Python 3 (ipykernel)",
   "language": "python",
   "name": "python3"
  },
  "language_info": {
   "codemirror_mode": {
    "name": "ipython",
    "version": 3
   },
   "file_extension": ".py",
   "mimetype": "text/x-python",
   "name": "python",
   "nbconvert_exporter": "python",
   "pygments_lexer": "ipython3",
   "version": "3.9.7"
  }
 },
 "nbformat": 4,
 "nbformat_minor": 5
}
