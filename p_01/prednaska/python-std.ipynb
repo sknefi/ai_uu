{
 "cells": [
  {
   "cell_type": "markdown",
   "id": "7f0fe29c",
   "metadata": {},
   "source": [
    "# Standardní výbava Pythonu\n",
    "\n",
    "Ukážeme si pár doplňků, které by se nám mohli hodit "
   ]
  },
  {
   "cell_type": "markdown",
   "id": "313e51fa",
   "metadata": {},
   "source": [
    "## Matematika\n",
    "---"
   ]
  },
  {
   "cell_type": "code",
   "execution_count": null,
   "id": "bf67ecd2",
   "metadata": {},
   "outputs": [],
   "source": [
    "import math"
   ]
  },
  {
   "cell_type": "code",
   "execution_count": null,
   "id": "3e39cea6",
   "metadata": {},
   "outputs": [],
   "source": [
    "a = 3.3\n",
    "print(math.ceil(a))\n",
    "print(math.floor(a))"
   ]
  },
  {
   "cell_type": "code",
   "execution_count": null,
   "id": "10484342",
   "metadata": {},
   "outputs": [],
   "source": [
    "round(3.12345, 3)  # z nejakeho duvodu je mimo"
   ]
  },
  {
   "cell_type": "code",
   "execution_count": null,
   "id": "03e1c6a5",
   "metadata": {},
   "outputs": [],
   "source": [
    "round(2.5) # !!!!!!!!!  round half to even Python 3, neni to bug"
   ]
  },
  {
   "cell_type": "code",
   "execution_count": null,
   "id": "cbf0aebe",
   "metadata": {
    "scrolled": true
   },
   "outputs": [],
   "source": [
    "math.gcd(20, 12, 60)"
   ]
  },
  {
   "cell_type": "code",
   "execution_count": null,
   "id": "7ae3f8bc",
   "metadata": {},
   "outputs": [],
   "source": [
    "math.prod([2, 3, 4, 5])"
   ]
  },
  {
   "cell_type": "markdown",
   "id": "531bf64a",
   "metadata": {},
   "source": [
    "### Funkce"
   ]
  },
  {
   "cell_type": "code",
   "execution_count": null,
   "id": "b27afc5d",
   "metadata": {},
   "outputs": [],
   "source": [
    "math.exp(5)"
   ]
  },
  {
   "cell_type": "code",
   "execution_count": null,
   "id": "4c9a36d7",
   "metadata": {},
   "outputs": [],
   "source": [
    "math.log2(128)  # log, log10"
   ]
  },
  {
   "cell_type": "code",
   "execution_count": null,
   "id": "db8be1f3",
   "metadata": {},
   "outputs": [],
   "source": [
    "math.sin(5)"
   ]
  },
  {
   "cell_type": "code",
   "execution_count": null,
   "id": "15b7278c",
   "metadata": {},
   "outputs": [],
   "source": [
    "math.radians(120) # uhel na radiany, opacna funkce degrees"
   ]
  },
  {
   "cell_type": "markdown",
   "id": "09e4291f",
   "metadata": {},
   "source": [
    "### Konstanty"
   ]
  },
  {
   "cell_type": "code",
   "execution_count": null,
   "id": "181bb8a9",
   "metadata": {},
   "outputs": [],
   "source": [
    "math.pi"
   ]
  },
  {
   "cell_type": "code",
   "execution_count": null,
   "id": "9f7e2b8f",
   "metadata": {},
   "outputs": [],
   "source": [
    "math.e"
   ]
  },
  {
   "cell_type": "code",
   "execution_count": null,
   "id": "4f3a8f54",
   "metadata": {},
   "outputs": [],
   "source": [
    "math.inf"
   ]
  },
  {
   "cell_type": "code",
   "execution_count": null,
   "id": "e27d55f6",
   "metadata": {},
   "outputs": [],
   "source": [
    "-math.inf"
   ]
  },
  {
   "cell_type": "markdown",
   "id": "9e0f337f",
   "metadata": {},
   "source": [
    "## Náhoda\n",
    "---\n",
    "Nikoli pro kryptografické účely!!!"
   ]
  },
  {
   "cell_type": "code",
   "execution_count": null,
   "id": "41c37784",
   "metadata": {},
   "outputs": [],
   "source": [
    "import random as rnd"
   ]
  },
  {
   "cell_type": "code",
   "execution_count": null,
   "id": "996c1a81",
   "metadata": {},
   "outputs": [],
   "source": [
    "rnd.random()"
   ]
  },
  {
   "cell_type": "code",
   "execution_count": null,
   "id": "c69a5800",
   "metadata": {},
   "outputs": [],
   "source": [
    "rnd.uniform(1, 2) # 1 <= x <= 2, jdou i zaporna cisla "
   ]
  },
  {
   "cell_type": "code",
   "execution_count": null,
   "id": "dd524ece",
   "metadata": {},
   "outputs": [],
   "source": [
    "rnd.randrange(5, 10)  # prirozena cisla od 5 do 9"
   ]
  },
  {
   "cell_type": "code",
   "execution_count": null,
   "id": "b763d49f",
   "metadata": {},
   "outputs": [],
   "source": [
    "jmena = [\"Petr\", \"Jana\", \"Albert\", \"Lumir\"]\n",
    "rnd.choice(jmena)"
   ]
  },
  {
   "cell_type": "code",
   "execution_count": null,
   "id": "018bb3ca",
   "metadata": {},
   "outputs": [],
   "source": [
    "rnd.shuffle(jmena)\n",
    "jmena"
   ]
  },
  {
   "cell_type": "code",
   "execution_count": null,
   "id": "b4c310e8",
   "metadata": {},
   "outputs": [],
   "source": [
    "rnd.sample(jmena, 2) # bez vraceni"
   ]
  },
  {
   "cell_type": "code",
   "execution_count": null,
   "id": "0799d519",
   "metadata": {},
   "outputs": [],
   "source": [
    "rnd.choices(jmena, k=2)  # s vracenim"
   ]
  },
  {
   "cell_type": "markdown",
   "id": "e066188c",
   "metadata": {},
   "source": [
    "## Statistika\n",
    "---"
   ]
  },
  {
   "cell_type": "code",
   "execution_count": null,
   "id": "0eb3286a",
   "metadata": {},
   "outputs": [],
   "source": [
    "import statistics as stat"
   ]
  },
  {
   "cell_type": "code",
   "execution_count": null,
   "id": "7b5cf925",
   "metadata": {},
   "outputs": [],
   "source": [
    "data = [2012, 2022, 2013, 2015, 2018, 2025]\n",
    "stat.mean(data)\n"
   ]
  },
  {
   "cell_type": "code",
   "execution_count": null,
   "id": "c2f7244c",
   "metadata": {},
   "outputs": [],
   "source": [
    "stat.median(data)"
   ]
  },
  {
   "cell_type": "code",
   "execution_count": null,
   "id": "da4b4a27",
   "metadata": {},
   "outputs": [],
   "source": [
    "stat.variance(data)"
   ]
  },
  {
   "cell_type": "code",
   "execution_count": null,
   "id": "b1705b01",
   "metadata": {},
   "outputs": [],
   "source": []
  },
  {
   "cell_type": "code",
   "execution_count": null,
   "id": "6d5732e7",
   "metadata": {},
   "outputs": [],
   "source": []
  },
  {
   "cell_type": "markdown",
   "id": "4a7507ec",
   "metadata": {},
   "source": [
    "## Kolekce\n",
    "---"
   ]
  },
  {
   "cell_type": "markdown",
   "id": "e21ebe78",
   "metadata": {},
   "source": [
    " ### Zásobník a fronta\n",
    " ano šlo by to pomocí listu, ale u fronty to není efektivní"
   ]
  },
  {
   "cell_type": "code",
   "execution_count": null,
   "id": "f76b0383",
   "metadata": {},
   "outputs": [],
   "source": [
    "from collections import deque"
   ]
  },
  {
   "cell_type": "code",
   "execution_count": null,
   "id": "17f03edd",
   "metadata": {},
   "outputs": [],
   "source": [
    "q = deque([4, 5, 7, 10, 11])\n",
    "\n",
    "print(q)\n",
    "\n",
    "q.append(13)\n",
    "q.append(14)\n",
    "\n",
    "q.appendleft(1)\n",
    "q.appendleft(2)\n",
    "\n",
    "print(q)\n",
    "\n",
    "q.pop()\n",
    "print(q)\n",
    "\n",
    "q.popleft()\n",
    "print(q)\n",
    "\n",
    "q.extend([8, 9, 10])\n",
    "print(q)"
   ]
  },
  {
   "cell_type": "code",
   "execution_count": null,
   "id": "9bdeb181",
   "metadata": {},
   "outputs": [],
   "source": [
    "len(q)  # delka fronty   - vsechny kontejnery v Pythonu maji funkci __len__()"
   ]
  },
  {
   "cell_type": "code",
   "execution_count": null,
   "id": "43c8da87",
   "metadata": {},
   "outputs": [],
   "source": [
    "qq = deque()\n",
    "if qq:\n",
    "    print(\"fronta je plna\")\n",
    "else:\n",
    "    print(\"fronta je prazdna\")"
   ]
  },
  {
   "cell_type": "markdown",
   "id": "faefdce4",
   "metadata": {},
   "source": [
    "## Měření času\n",
    "---"
   ]
  },
  {
   "cell_type": "code",
   "execution_count": null,
   "id": "9292b5b6",
   "metadata": {},
   "outputs": [],
   "source": [
    "import timeit\n",
    "\n",
    "start = timeit.default_timer()\n",
    "\n",
    "for i in range(1000000):\n",
    "    x = rnd.random()\n",
    "    y = rnd.random()\n",
    "    y-x\n",
    "\n",
    "end = timeit.default_timer()\n",
    "\n",
    "\n",
    "print(format(end-start, \"0.2f\"), \"sekund\")"
   ]
  },
  {
   "cell_type": "code",
   "execution_count": null,
   "id": "62e07f49",
   "metadata": {},
   "outputs": [],
   "source": []
  }
 ],
 "metadata": {
  "kernelspec": {
   "display_name": "Python 3 (ipykernel)",
   "language": "python",
   "name": "python3"
  },
  "language_info": {
   "codemirror_mode": {
    "name": "ipython",
    "version": 3
   },
   "file_extension": ".py",
   "mimetype": "text/x-python",
   "name": "python",
   "nbconvert_exporter": "python",
   "pygments_lexer": "ipython3",
   "version": "3.9.7"
  }
 },
 "nbformat": 4,
 "nbformat_minor": 5
}
