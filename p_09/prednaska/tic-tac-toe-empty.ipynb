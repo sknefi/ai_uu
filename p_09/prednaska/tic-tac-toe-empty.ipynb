{
 "cells": [
  {
   "cell_type": "markdown",
   "id": "867aa3ba",
   "metadata": {},
   "source": [
    "# Tic-tac-toe"
   ]
  },
  {
   "cell_type": "code",
   "execution_count": 1,
   "id": "60f845d1",
   "metadata": {},
   "outputs": [],
   "source": [
    "import numpy as np"
   ]
  },
  {
   "cell_type": "markdown",
   "id": "a2a89821",
   "metadata": {},
   "source": [
    "## Pomocné funkce"
   ]
  },
  {
   "cell_type": "code",
   "execution_count": 5,
   "id": "17561ae1",
   "metadata": {},
   "outputs": [],
   "source": [
    "# kreslí hru\n",
    "def printgame(g):\n",
    "    for r in g: \n",
    "        pr = \"\"\n",
    "        for i in r:\n",
    "            if i == 0:\n",
    "                pr += \".\"\n",
    "            elif i == 1:\n",
    "                pr += \"x\"\n",
    "            else:\n",
    "                pr += \"o\"\n",
    "        print(pr)\n",
    "        \n",
    "\n",
    "        \n",
    "# říká kdo vyhrál 0=nikdo, 1, 2        \n",
    "def whowon(g):\n",
    "    \n",
    "    # řádek\n",
    "    if g[0][:] == [1, 1, 1] or g[1][:] == [1, 1, 1] or g[2][:] == [1, 1, 1]:\n",
    "        return 1\n",
    "            \n",
    "    if g[0][:] == [2, 2, 2] or g[1][:] == [2, 2, 2] or g[2][:] == [2, 2, 2]:\n",
    "        return 2\n",
    "    \n",
    "    # 1. sloupec\n",
    "    if g[0][0] == g[1][0] == g[2][0] == 1:\n",
    "        return 1\n",
    "    \n",
    "    if g[0][0] == g[1][0] == g[2][0] == 2:\n",
    "        return 2\n",
    "    \n",
    "    # 2. sloupec\n",
    "    if g[0][1] == g[1][1] == g[2][1] == 1:\n",
    "        return 1\n",
    "    \n",
    "    if g[0][1] == g[1][1] == g[2][1] == 2:\n",
    "        return 2\n",
    "    \n",
    "    \n",
    "    # 3. sloupec\n",
    "    if g[0][2] == g[1][2] == g[2][2] == 1:\n",
    "        return 1\n",
    "    \n",
    "    if g[0][2] == g[1][2] == g[2][2] == 2:\n",
    "        return 2\n",
    "    \n",
    "    \n",
    "    # hlavní diagonála\n",
    "    if g[0][0] == g[1][1] == g[2][2] == 1:\n",
    "        return 1\n",
    "    \n",
    "    if g[0][0] == g[1][1] == g[2][2] == 2:\n",
    "        return 2\n",
    "    \n",
    "    \n",
    "    # hlavní anti-diagonála\n",
    "    if g[0][2] == g[1][1] == g[2][0] == 1:\n",
    "        return 1\n",
    "\n",
    "    if g[0][2] == g[1][1] == g[2][0] == 2:\n",
    "        return 2\n",
    "       \n",
    "    return 0\n",
    "        \n",
    "\n",
    "# vrací prázdná místa na šachovnici    \n",
    "def emptyspots(g):\n",
    "    emp = []\n",
    "    for i in range(3):\n",
    "        for j in range(3):\n",
    "            if g[i][j] == 0:\n",
    "                emp.append((i, j))\n",
    "    return emp\n",
    "    "
   ]
  },
  {
   "cell_type": "markdown",
   "id": "f3f85e03",
   "metadata": {},
   "source": [
    "## Herní funkce"
   ]
  },
  {
   "cell_type": "code",
   "execution_count": 6,
   "id": "2bf35bae-bc63-4261-81ec-5dbc30e2ce20",
   "metadata": {},
   "outputs": [],
   "source": [
    "def ttt_move(game, myplayer, otherplayer):\n",
    "            \n",
    "    # todo <--------------------    \n",
    "        \n",
    "    return game"
   ]
  },
  {
   "cell_type": "markdown",
   "id": "28eb0522",
   "metadata": {},
   "source": [
    "## Hra"
   ]
  },
  {
   "cell_type": "code",
   "execution_count": null,
   "id": "be5a5b4f-dbf5-42cd-bf86-9a7e4c16030d",
   "metadata": {},
   "outputs": [],
   "source": []
  }
 ],
 "metadata": {
  "kernelspec": {
   "display_name": "venv",
   "language": "python",
   "name": "python3"
  },
  "language_info": {
   "codemirror_mode": {
    "name": "ipython",
    "version": 3
   },
   "file_extension": ".py",
   "mimetype": "text/x-python",
   "name": "python",
   "nbconvert_exporter": "python",
   "pygments_lexer": "ipython3",
   "version": "3.13.3"
  }
 },
 "nbformat": 4,
 "nbformat_minor": 5
}
