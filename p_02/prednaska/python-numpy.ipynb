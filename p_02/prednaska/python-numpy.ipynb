{
 "cells": [
  {
   "cell_type": "markdown",
   "id": "d8c93a3b",
   "metadata": {},
   "source": [
    "# Python a numpy\n",
    "\n",
    "- základní knihovna pro práci s poli\n",
    "- rychlá\n",
    "- v polích pouze hodnota jednoho typu"
   ]
  },
  {
   "cell_type": "code",
   "execution_count": 1,
   "id": "da6c8987",
   "metadata": {},
   "outputs": [],
   "source": [
    "import numpy as np\n"
   ]
  },
  {
   "cell_type": "markdown",
   "id": "943eb8f6",
   "metadata": {},
   "source": [
    "## Přemysl Oráč to ví - generování polí\n",
    "---\n",
    "základem numpy je pole, můžeme ho vytvořit ze seznamu"
   ]
  },
  {
   "cell_type": "code",
   "execution_count": 2,
   "id": "b8795bc6",
   "metadata": {},
   "outputs": [
    {
     "name": "stdout",
     "output_type": "stream",
     "text": [
      "[1 2 3]\n"
     ]
    }
   ],
   "source": [
    "A = np.array([1, 2, 3]) # pole 1 x 3\n",
    "print(A)"
   ]
  },
  {
   "cell_type": "markdown",
   "id": "3b0d59e0",
   "metadata": {},
   "source": [
    "nebo seznamu seznamů"
   ]
  },
  {
   "cell_type": "code",
   "execution_count": 7,
   "id": "5e247353",
   "metadata": {},
   "outputs": [
    {
     "name": "stdout",
     "output_type": "stream",
     "text": [
      "[[1 2 3]\n",
      " [4 5 6]]\n"
     ]
    }
   ],
   "source": [
    "A = np.array([[1, 2, 3], [4, 5, 6] ])  # pole 2 x 3\n",
    "print(A)"
   ]
  },
  {
   "cell_type": "markdown",
   "id": "cd277372",
   "metadata": {},
   "source": [
    "speciální pole se nám mohou hodit"
   ]
  },
  {
   "cell_type": "code",
   "execution_count": 8,
   "id": "c20bd4c0",
   "metadata": {},
   "outputs": [
    {
     "name": "stdout",
     "output_type": "stream",
     "text": [
      "[[0. 0. 0. 0.]\n",
      " [0. 0. 0. 0.]\n",
      " [0. 0. 0. 0.]]\n"
     ]
    }
   ],
   "source": [
    "A = np.zeros((3, 4))  # pole nul 3 x 4, pozor na zadavani pomoci dvojice! \n",
    "print(A)"
   ]
  },
  {
   "cell_type": "markdown",
   "id": "dc156490",
   "metadata": {},
   "source": [
    "někdy se nám může hodit zadat i typ hodnot v poli"
   ]
  },
  {
   "cell_type": "code",
   "execution_count": 10,
   "id": "03c68da8",
   "metadata": {},
   "outputs": [
    {
     "name": "stdout",
     "output_type": "stream",
     "text": [
      "[[0 0 0 0]\n",
      " [0 0 0 0]\n",
      " [0 0 0 0]]\n"
     ]
    }
   ],
   "source": [
    "A = np.zeros((3, 4), dtype = int)\n",
    "print(A)"
   ]
  },
  {
   "cell_type": "code",
   "execution_count": 12,
   "id": "27579097",
   "metadata": {
    "scrolled": true
   },
   "outputs": [
    {
     "name": "stdout",
     "output_type": "stream",
     "text": [
      "[[1. 1. 1. 1. 1.]\n",
      " [1. 1. 1. 1. 1.]]\n"
     ]
    }
   ],
   "source": [
    "A = np.ones((2, 5))\n",
    "print(A)"
   ]
  },
  {
   "cell_type": "markdown",
   "id": "5411a92f",
   "metadata": {},
   "source": [
    "repeat"
   ]
  },
  {
   "cell_type": "code",
   "execution_count": 3,
   "id": "f7b5f4fc",
   "metadata": {
    "scrolled": true
   },
   "outputs": [
    {
     "name": "stdout",
     "output_type": "stream",
     "text": [
      "[3 3 3 3 3]\n"
     ]
    }
   ],
   "source": [
    "A = np.repeat(3, 5)\n",
    "print(A)"
   ]
  },
  {
   "cell_type": "code",
   "execution_count": 6,
   "id": "15ee44b8",
   "metadata": {},
   "outputs": [
    {
     "name": "stdout",
     "output_type": "stream",
     "text": [
      "[[3 3 3 3]\n",
      " [3 3 3 3]\n",
      " [3 3 3 3]]\n"
     ]
    }
   ],
   "source": [
    "A = np.repeat(3, 12).reshape(3, 4) \n",
    "print(A)"
   ]
  },
  {
   "cell_type": "markdown",
   "id": "9d78c427",
   "metadata": {},
   "source": [
    "nebo"
   ]
  },
  {
   "cell_type": "code",
   "execution_count": 3,
   "id": "b972c67a",
   "metadata": {},
   "outputs": [
    {
     "name": "stdout",
     "output_type": "stream",
     "text": [
      "[[3 3 3 3]\n",
      " [3 3 3 3]\n",
      " [3 3 3 3]]\n"
     ]
    }
   ],
   "source": [
    "A = np.full((3, 4), 3)\n",
    "print(A)"
   ]
  },
  {
   "cell_type": "markdown",
   "id": "93ee321a",
   "metadata": {},
   "source": [
    "## Info o poli"
   ]
  },
  {
   "cell_type": "code",
   "execution_count": 4,
   "id": "c0d53d1c",
   "metadata": {},
   "outputs": [
    {
     "data": {
      "text/plain": [
       "2"
      ]
     },
     "execution_count": 4,
     "metadata": {},
     "output_type": "execute_result"
    }
   ],
   "source": [
    "A.ndim   # rozmery"
   ]
  },
  {
   "cell_type": "code",
   "execution_count": 28,
   "id": "5a4f6066",
   "metadata": {},
   "outputs": [
    {
     "data": {
      "text/plain": [
       "4"
      ]
     },
     "execution_count": 28,
     "metadata": {},
     "output_type": "execute_result"
    }
   ],
   "source": [
    "A.size   # pocet prvku"
   ]
  },
  {
   "cell_type": "code",
   "execution_count": 27,
   "id": "3e027798",
   "metadata": {},
   "outputs": [
    {
     "data": {
      "text/plain": [
       "(2, 2)"
      ]
     },
     "execution_count": 27,
     "metadata": {},
     "output_type": "execute_result"
    }
   ],
   "source": [
    "A.shape  # tvar"
   ]
  },
  {
   "cell_type": "markdown",
   "id": "b9f2ea2b",
   "metadata": {},
   "source": [
    "## Konverze ze seznamu na numpy pole\n",
    "---"
   ]
  },
  {
   "cell_type": "code",
   "execution_count": 5,
   "id": "4ada1ea3",
   "metadata": {},
   "outputs": [
    {
     "name": "stdout",
     "output_type": "stream",
     "text": [
      "<class 'list'>\n"
     ]
    }
   ],
   "source": [
    "l = [1, 2, 3, 4, 6]\n",
    "print(type(l))"
   ]
  },
  {
   "cell_type": "code",
   "execution_count": 6,
   "id": "6964bccc",
   "metadata": {},
   "outputs": [
    {
     "name": "stdout",
     "output_type": "stream",
     "text": [
      "<class 'numpy.ndarray'>\n"
     ]
    }
   ],
   "source": [
    "a = np.array(l)\n",
    "print(type(a))"
   ]
  },
  {
   "cell_type": "markdown",
   "id": "434704c9",
   "metadata": {},
   "source": [
    "## Rozsahy\n",
    "---"
   ]
  },
  {
   "cell_type": "code",
   "execution_count": 11,
   "id": "bb77bf8f",
   "metadata": {},
   "outputs": [
    {
     "data": {
      "text/plain": [
       "array([ 0,  1,  2,  3,  4,  5,  6,  7,  8,  9, 10, 11])"
      ]
     },
     "execution_count": 11,
     "metadata": {},
     "output_type": "execute_result"
    }
   ],
   "source": [
    "v = np.arange(12)\n",
    "v"
   ]
  },
  {
   "cell_type": "code",
   "execution_count": 13,
   "id": "8877eb34",
   "metadata": {},
   "outputs": [
    {
     "data": {
      "text/plain": [
       "array([ 1,  6, 11, 16])"
      ]
     },
     "execution_count": 13,
     "metadata": {},
     "output_type": "execute_result"
    }
   ],
   "source": [
    "v = np.arange(1, 20, 5)   # od, do, krok  \n",
    "v"
   ]
  },
  {
   "cell_type": "code",
   "execution_count": 14,
   "id": "00ea289b",
   "metadata": {},
   "outputs": [
    {
     "data": {
      "text/plain": [
       "array([0. , 0.1, 0.2, 0.3, 0.4, 0.5, 0.6, 0.7, 0.8, 0.9, 1. , 1.1, 1.2,\n",
       "       1.3, 1.4, 1.5, 1.6, 1.7, 1.8, 1.9, 2. , 2.1, 2.2, 2.3, 2.4, 2.5,\n",
       "       2.6, 2.7, 2.8, 2.9, 3. , 3.1])"
      ]
     },
     "execution_count": 14,
     "metadata": {},
     "output_type": "execute_result"
    }
   ],
   "source": [
    "v = np.arange(0, np.pi, 0.1 )   # floatove, proc ne\n",
    "v"
   ]
  },
  {
   "cell_type": "markdown",
   "id": "5c04c95f",
   "metadata": {},
   "source": [
    "pokud ale chceme jasný počet kroků, hodí se pro vzorkování"
   ]
  },
  {
   "cell_type": "code",
   "execution_count": 15,
   "id": "7bba814c",
   "metadata": {},
   "outputs": [
    {
     "data": {
      "text/plain": [
       "array([0.        , 0.34906585, 0.6981317 , 1.04719755, 1.3962634 ,\n",
       "       1.74532925, 2.0943951 , 2.44346095, 2.7925268 , 3.14159265])"
      ]
     },
     "execution_count": 15,
     "metadata": {},
     "output_type": "execute_result"
    }
   ],
   "source": [
    "v = np.linspace(0, np.pi, 10)\n",
    "v"
   ]
  },
  {
   "cell_type": "markdown",
   "id": "61f5507a",
   "metadata": {},
   "source": [
    "na tom krásně můžeme evaluovat funkce "
   ]
  },
  {
   "cell_type": "code",
   "execution_count": 16,
   "id": "27279cb8",
   "metadata": {},
   "outputs": [
    {
     "data": {
      "text/plain": [
       "array([0.00000000e+00, 3.42020143e-01, 6.42787610e-01, 8.66025404e-01,\n",
       "       9.84807753e-01, 9.84807753e-01, 8.66025404e-01, 6.42787610e-01,\n",
       "       3.42020143e-01, 1.22464680e-16])"
      ]
     },
     "execution_count": 16,
     "metadata": {},
     "output_type": "execute_result"
    }
   ],
   "source": [
    "np.sin(v)"
   ]
  },
  {
   "cell_type": "markdown",
   "id": "f3d2297c",
   "metadata": {},
   "source": [
    "## Základní operace\n",
    "---"
   ]
  },
  {
   "cell_type": "markdown",
   "id": "b2382edb",
   "metadata": {},
   "source": [
    "aritmetické operace se aplikují po koeficientech"
   ]
  },
  {
   "cell_type": "code",
   "execution_count": 19,
   "id": "65b872e3",
   "metadata": {},
   "outputs": [
    {
     "data": {
      "text/plain": [
       "array([1, 1, 1, 1])"
      ]
     },
     "execution_count": 19,
     "metadata": {},
     "output_type": "execute_result"
    }
   ],
   "source": [
    "a = np.array([1, 2, 3, 4])\n",
    "b = np.array([2, 3, 4, 5])\n",
    "\n",
    "b - a"
   ]
  },
  {
   "cell_type": "code",
   "execution_count": 20,
   "id": "f063aa93",
   "metadata": {},
   "outputs": [
    {
     "data": {
      "text/plain": [
       "array([10, 20, 30, 40])"
      ]
     },
     "execution_count": 20,
     "metadata": {},
     "output_type": "execute_result"
    }
   ],
   "source": [
    "10 * a"
   ]
  },
  {
   "cell_type": "code",
   "execution_count": 21,
   "id": "38c66143",
   "metadata": {},
   "outputs": [
    {
     "data": {
      "text/plain": [
       "array([[ 2,  6],\n",
       "       [12, 20]])"
      ]
     },
     "execution_count": 21,
     "metadata": {},
     "output_type": "execute_result"
    }
   ],
   "source": [
    "A = np.array([[1, 2], [3, 4]])\n",
    "B = np.array([[2, 3], [4, 5]])\n",
    "\n",
    "A * B   # pozor neni maticove nasobeni, ale po slozkach \n"
   ]
  },
  {
   "cell_type": "markdown",
   "id": "cee66f6d",
   "metadata": {},
   "source": [
    "maticové násobení se udělá takto"
   ]
  },
  {
   "cell_type": "code",
   "execution_count": 22,
   "id": "5e2a4122",
   "metadata": {},
   "outputs": [
    {
     "data": {
      "text/plain": [
       "array([[10, 13],\n",
       "       [22, 29]])"
      ]
     },
     "execution_count": 22,
     "metadata": {},
     "output_type": "execute_result"
    }
   ],
   "source": [
    "A @ B"
   ]
  },
  {
   "cell_type": "markdown",
   "id": "16c2dc21",
   "metadata": {},
   "source": [
    "i porovnání funguje po složkách"
   ]
  },
  {
   "cell_type": "code",
   "execution_count": 23,
   "id": "cd11844e",
   "metadata": {},
   "outputs": [
    {
     "data": {
      "text/plain": [
       "array([[ True,  True],\n",
       "       [ True,  True]])"
      ]
     },
     "execution_count": 23,
     "metadata": {},
     "output_type": "execute_result"
    }
   ],
   "source": [
    "A < B"
   ]
  },
  {
   "cell_type": "code",
   "execution_count": null,
   "id": "fe34dd1f",
   "metadata": {},
   "outputs": [],
   "source": []
  },
  {
   "cell_type": "code",
   "execution_count": null,
   "id": "fa780984",
   "metadata": {},
   "outputs": [],
   "source": []
  },
  {
   "cell_type": "markdown",
   "id": "466197d3",
   "metadata": {},
   "source": [
    "## Výběry\n",
    "---\n",
    "proč je horní mez exkluzivní? \n",
    "\n",
    "word[:2]    # první dvě písmena\n",
    "\n",
    "word[2:]    # vše kromě prvních dvou písmen\n",
    "\n",
    "word[:i] + word[i:] = word\n",
    "\n",
    "místa kam klademe přihrádky, když chceme rozdělit"
   ]
  },
  {
   "cell_type": "code",
   "execution_count": 33,
   "id": "4f819be8",
   "metadata": {},
   "outputs": [
    {
     "data": {
      "text/plain": [
       "array([[1, 2],\n",
       "       [3, 4]])"
      ]
     },
     "execution_count": 33,
     "metadata": {},
     "output_type": "execute_result"
    }
   ],
   "source": [
    "A = np.array([[1, 2, 3], [3, 4, 5]])\n",
    "B = A[:, 0:2]\n",
    "B"
   ]
  },
  {
   "cell_type": "code",
   "execution_count": 35,
   "id": "020784b3",
   "metadata": {},
   "outputs": [
    {
     "data": {
      "text/plain": [
       "array([4, 5])"
      ]
     },
     "execution_count": 35,
     "metadata": {},
     "output_type": "execute_result"
    }
   ],
   "source": [
    "B = A[1, 1:]\n",
    "B"
   ]
  },
  {
   "cell_type": "code",
   "execution_count": 37,
   "id": "97ecc083",
   "metadata": {},
   "outputs": [
    {
     "data": {
      "text/plain": [
       "array([3, 4, 5])"
      ]
     },
     "execution_count": 37,
     "metadata": {},
     "output_type": "execute_result"
    }
   ],
   "source": [
    "B = A[-1, :]\n",
    "B"
   ]
  },
  {
   "cell_type": "markdown",
   "id": "58ba863f",
   "metadata": {},
   "source": [
    "vybírat lze i indexovým polem"
   ]
  },
  {
   "cell_type": "code",
   "execution_count": 39,
   "id": "3e4efc31",
   "metadata": {},
   "outputs": [
    {
     "data": {
      "text/plain": [
       "array([2, 2, 3, 4, 6])"
      ]
     },
     "execution_count": 39,
     "metadata": {},
     "output_type": "execute_result"
    }
   ],
   "source": [
    "a = np.array([1, 2, 3, 4, 5, 6, 7, 8])\n",
    "ind = np.array([1, 1, 2, 3, 5])\n",
    "\n",
    "a[ind]\n"
   ]
  },
  {
   "cell_type": "markdown",
   "id": "87010e24",
   "metadata": {},
   "source": [
    "vybírat lze i boolovským polem"
   ]
  },
  {
   "cell_type": "code",
   "execution_count": 40,
   "id": "70fd9390",
   "metadata": {},
   "outputs": [
    {
     "data": {
      "text/plain": [
       "array([2, 4, 8])"
      ]
     },
     "execution_count": 40,
     "metadata": {},
     "output_type": "execute_result"
    }
   ],
   "source": [
    "ind = np.array([False, True, False, True, False, False, False, True])\n",
    "a[ind]"
   ]
  },
  {
   "cell_type": "markdown",
   "id": "b35ee85f",
   "metadata": {},
   "source": [
    "a tudíž i takto pomocí logických podmínek"
   ]
  },
  {
   "cell_type": "code",
   "execution_count": 42,
   "id": "28b434f7",
   "metadata": {},
   "outputs": [
    {
     "data": {
      "text/plain": [
       "array([2, 4, 6, 8])"
      ]
     },
     "execution_count": 42,
     "metadata": {},
     "output_type": "execute_result"
    }
   ],
   "source": [
    "b = a[a % 2 == 0]    # vyber sude \n",
    "b"
   ]
  },
  {
   "cell_type": "markdown",
   "id": "451a2f6c",
   "metadata": {},
   "source": [
    "nastavení prvků"
   ]
  },
  {
   "cell_type": "code",
   "execution_count": 62,
   "id": "7286163e",
   "metadata": {},
   "outputs": [
    {
     "data": {
      "text/plain": [
       "array([[1, 2],\n",
       "       [3, 4]])"
      ]
     },
     "execution_count": 62,
     "metadata": {},
     "output_type": "execute_result"
    }
   ],
   "source": [
    "A"
   ]
  },
  {
   "cell_type": "code",
   "execution_count": 63,
   "id": "6328ddf9",
   "metadata": {
    "scrolled": true
   },
   "outputs": [
    {
     "data": {
      "text/plain": [
       "array([[50,  2],\n",
       "       [ 3,  4]])"
      ]
     },
     "execution_count": 63,
     "metadata": {},
     "output_type": "execute_result"
    }
   ],
   "source": [
    "A[0, 0] = 50\n",
    "A"
   ]
  },
  {
   "cell_type": "code",
   "execution_count": 29,
   "id": "17e9826d",
   "metadata": {},
   "outputs": [
    {
     "data": {
      "text/plain": [
       "6"
      ]
     },
     "execution_count": 29,
     "metadata": {},
     "output_type": "execute_result"
    }
   ],
   "source": [
    "c = np.array([2, 3, 4, 5, 6])   # posledni element pole\n",
    "c[-1]"
   ]
  },
  {
   "cell_type": "markdown",
   "id": "7c67d415",
   "metadata": {},
   "source": [
    "## Změna tvaru\n",
    "---\n",
    "je rozdíl mezi reshape (vrací pohled do pole) a resize (mění tvar pole)"
   ]
  },
  {
   "cell_type": "code",
   "execution_count": 17,
   "id": "670c7fca",
   "metadata": {},
   "outputs": [
    {
     "name": "stdout",
     "output_type": "stream",
     "text": [
      "[ 0  1  2  3  4  5  6  7  8  9 10 11] \n",
      "\n",
      "[[ 0  1  2  3]\n",
      " [ 4  5  6  7]\n",
      " [ 8  9 10 11]] \n",
      "\n",
      "[[ 0  1  2  3]\n",
      " [ 4  5  6  7]\n",
      " [ 8  9 10 11]]\n"
     ]
    }
   ],
   "source": [
    "A = np.arange(12)\n",
    "\n",
    "B = A.reshape(3, 4)\n",
    "print(A, \"\\n\")\n",
    "print(B, \"\\n\")\n",
    "\n",
    "A.resize(3, 4)\n",
    "print(A)"
   ]
  },
  {
   "cell_type": "markdown",
   "id": "c46b7968",
   "metadata": {},
   "source": [
    "pole můžeme slévat, horizontálně i vertikálně"
   ]
  },
  {
   "cell_type": "code",
   "execution_count": 53,
   "id": "8964044f",
   "metadata": {},
   "outputs": [
    {
     "name": "stdout",
     "output_type": "stream",
     "text": [
      "[[ 0  1  2  3  0  1  2  3]\n",
      " [ 4  5  6  7  4  5  6  7]\n",
      " [ 8  9 10 11  8  9 10 11]]\n"
     ]
    }
   ],
   "source": [
    "print(np.hstack((A, B)))    # pozor na dvojici!"
   ]
  },
  {
   "cell_type": "code",
   "execution_count": 54,
   "id": "bc70061e",
   "metadata": {},
   "outputs": [
    {
     "name": "stdout",
     "output_type": "stream",
     "text": [
      "[[ 0  1  2  3]\n",
      " [ 4  5  6  7]\n",
      " [ 8  9 10 11]\n",
      " [ 0  1  2  3]\n",
      " [ 4  5  6  7]\n",
      " [ 8  9 10 11]]\n"
     ]
    }
   ],
   "source": [
    "print(np.vstack((A, B))) "
   ]
  },
  {
   "cell_type": "markdown",
   "id": "51ec8c69",
   "metadata": {},
   "source": [
    "transpozice"
   ]
  },
  {
   "cell_type": "code",
   "execution_count": 18,
   "id": "3f18afa0",
   "metadata": {},
   "outputs": [
    {
     "data": {
      "text/plain": [
       "array([[ 0,  4,  8],\n",
       "       [ 1,  5,  9],\n",
       "       [ 2,  6, 10],\n",
       "       [ 3,  7, 11]])"
      ]
     },
     "execution_count": 18,
     "metadata": {},
     "output_type": "execute_result"
    }
   ],
   "source": [
    "A.T  # nebo A.transpose()"
   ]
  },
  {
   "cell_type": "code",
   "execution_count": 22,
   "id": "3af8ee92",
   "metadata": {},
   "outputs": [
    {
     "name": "stdout",
     "output_type": "stream",
     "text": [
      "[[1]\n",
      " [2]\n",
      " [3]]\n"
     ]
    }
   ],
   "source": [
    "a = np.array([1, 2, 3]).T   # pozooor tohle nic neudělá\n",
    "a = np.array([[1, 2, 3]]).T\n",
    "print(a)"
   ]
  },
  {
   "cell_type": "markdown",
   "id": "c419a6a2",
   "metadata": {},
   "source": [
    "splácnutí - flatten (vytváří nové pole), ravel (vytváří pohled)"
   ]
  },
  {
   "cell_type": "code",
   "execution_count": 77,
   "id": "f97ae24f",
   "metadata": {},
   "outputs": [
    {
     "data": {
      "text/plain": [
       "array([1, 2, 3, 4])"
      ]
     },
     "execution_count": 77,
     "metadata": {},
     "output_type": "execute_result"
    }
   ],
   "source": [
    "A.ravel()"
   ]
  },
  {
   "cell_type": "markdown",
   "id": "179406a0",
   "metadata": {},
   "source": [
    "## Kopie\n",
    "---\n",
    "pozor! kopie se nevytváří automaticky\n"
   ]
  },
  {
   "cell_type": "code",
   "execution_count": 57,
   "id": "c586ca08",
   "metadata": {},
   "outputs": [
    {
     "data": {
      "text/plain": [
       "array([[4, 2],\n",
       "       [3, 4]])"
      ]
     },
     "execution_count": 57,
     "metadata": {},
     "output_type": "execute_result"
    }
   ],
   "source": [
    "A = np.array([[1, 2], [3, 4]])\n",
    "B = A\n",
    "B[0, 0] = 4\n",
    "A"
   ]
  },
  {
   "cell_type": "code",
   "execution_count": 61,
   "id": "5069ca0c",
   "metadata": {},
   "outputs": [
    {
     "data": {
      "text/plain": [
       "array([[1, 2],\n",
       "       [3, 4]])"
      ]
     },
     "execution_count": 61,
     "metadata": {},
     "output_type": "execute_result"
    }
   ],
   "source": [
    "A = np.array([[1, 2], [3, 4]])\n",
    "\n",
    "B = A.copy()\n",
    "B[0, 0] = 4\n",
    "A"
   ]
  },
  {
   "cell_type": "code",
   "execution_count": null,
   "id": "68c92031",
   "metadata": {},
   "outputs": [],
   "source": []
  },
  {
   "cell_type": "markdown",
   "id": "e21fe6f5",
   "metadata": {},
   "source": [
    "## Množiny\n",
    "---\n"
   ]
  },
  {
   "cell_type": "code",
   "execution_count": 32,
   "id": "5cc53eb9",
   "metadata": {},
   "outputs": [
    {
     "name": "stdout",
     "output_type": "stream",
     "text": [
      "[3 4]\n"
     ]
    }
   ],
   "source": [
    "d = np.array([1, 2, 3, 4, 5])\n",
    "e = np.array([3, 4, 6, 7, 8])\n",
    "\n",
    "prunik = np.intersect1d(d, e)  # union1d\n",
    "print(prunik)"
   ]
  },
  {
   "cell_type": "code",
   "execution_count": 34,
   "id": "7764519c",
   "metadata": {},
   "outputs": [
    {
     "data": {
      "text/plain": [
       "array(True)"
      ]
     },
     "execution_count": 34,
     "metadata": {},
     "output_type": "execute_result"
    }
   ],
   "source": [
    "np.isin(5, d)"
   ]
  },
  {
   "cell_type": "markdown",
   "id": "ead1f45a",
   "metadata": {},
   "source": [
    "## Basic operace\n",
    "---"
   ]
  },
  {
   "cell_type": "markdown",
   "id": "d8517a24",
   "metadata": {},
   "source": [
    "suma\n"
   ]
  },
  {
   "cell_type": "code",
   "execution_count": 64,
   "id": "514c7519",
   "metadata": {},
   "outputs": [
    {
     "data": {
      "text/plain": [
       "45"
      ]
     },
     "execution_count": 64,
     "metadata": {},
     "output_type": "execute_result"
    }
   ],
   "source": [
    "a = np.arange(10)\n",
    "a.sum()"
   ]
  },
  {
   "cell_type": "code",
   "execution_count": 70,
   "id": "17bcc69f",
   "metadata": {},
   "outputs": [
    {
     "data": {
      "text/plain": [
       "array([4, 6])"
      ]
     },
     "execution_count": 70,
     "metadata": {},
     "output_type": "execute_result"
    }
   ],
   "source": [
    "A = np.array([[1, 2], [3, 4]])\n",
    "A.sum()\n",
    "\n",
    "A.sum(axis=0)   # 0 vertikalni osa, 1 vodorovna osa"
   ]
  },
  {
   "cell_type": "markdown",
   "id": "0cd65573",
   "metadata": {},
   "source": [
    "minimum a maximum"
   ]
  },
  {
   "cell_type": "code",
   "execution_count": 67,
   "id": "f36bbbd5",
   "metadata": {},
   "outputs": [
    {
     "data": {
      "text/plain": [
       "9"
      ]
     },
     "execution_count": 67,
     "metadata": {},
     "output_type": "execute_result"
    }
   ],
   "source": [
    "a.min()\n",
    "a.max()"
   ]
  },
  {
   "cell_type": "code",
   "execution_count": 68,
   "id": "57521a78",
   "metadata": {},
   "outputs": [
    {
     "data": {
      "text/plain": [
       "1"
      ]
     },
     "execution_count": 68,
     "metadata": {},
     "output_type": "execute_result"
    }
   ],
   "source": [
    "A.min()"
   ]
  },
  {
   "cell_type": "code",
   "execution_count": 69,
   "id": "a490bf97",
   "metadata": {},
   "outputs": [
    {
     "data": {
      "text/plain": [
       "array([1, 2])"
      ]
     },
     "execution_count": 69,
     "metadata": {},
     "output_type": "execute_result"
    }
   ],
   "source": [
    "A.min(axis=0)  # jde to po osach"
   ]
  },
  {
   "cell_type": "markdown",
   "id": "0b16df21",
   "metadata": {},
   "source": [
    "ostatni"
   ]
  },
  {
   "cell_type": "code",
   "execution_count": 73,
   "id": "b7ca8d88",
   "metadata": {},
   "outputs": [
    {
     "data": {
      "text/plain": [
       "array([1, 2, 3, 4, 5, 7, 8])"
      ]
     },
     "execution_count": 73,
     "metadata": {},
     "output_type": "execute_result"
    }
   ],
   "source": [
    "b = np.array([3, 1, 2, 1, 5, 7, 8, 4])\n",
    "np.unique(b)  # jedinecna cisla, POZOR umi vracet i indexy cisel a pocty"
   ]
  },
  {
   "cell_type": "code",
   "execution_count": 74,
   "id": "c5b9ccd9",
   "metadata": {},
   "outputs": [
    {
     "data": {
      "text/plain": [
       "array([1, 1, 2, 3, 4, 5, 7, 8])"
      ]
     },
     "execution_count": 74,
     "metadata": {},
     "output_type": "execute_result"
    }
   ],
   "source": [
    "np.sort(b)    # trideni"
   ]
  },
  {
   "cell_type": "code",
   "execution_count": 79,
   "id": "fa843eb6",
   "metadata": {},
   "outputs": [
    {
     "data": {
      "text/plain": [
       "array([4, 8, 7, 5, 1, 2, 1, 3])"
      ]
     },
     "execution_count": 79,
     "metadata": {},
     "output_type": "execute_result"
    }
   ],
   "source": [
    "np.flip(b)  # reverze pole"
   ]
  },
  {
   "cell_type": "code",
   "execution_count": null,
   "id": "cc1b48c2",
   "metadata": {},
   "outputs": [],
   "source": []
  },
  {
   "cell_type": "code",
   "execution_count": null,
   "id": "294571fd",
   "metadata": {},
   "outputs": [],
   "source": []
  },
  {
   "cell_type": "code",
   "execution_count": null,
   "id": "4410fa28",
   "metadata": {},
   "outputs": [],
   "source": []
  },
  {
   "cell_type": "code",
   "execution_count": null,
   "id": "87a107a6",
   "metadata": {},
   "outputs": [],
   "source": []
  },
  {
   "cell_type": "code",
   "execution_count": null,
   "id": "690bf56c",
   "metadata": {},
   "outputs": [],
   "source": []
  },
  {
   "cell_type": "markdown",
   "id": "529cd1b3",
   "metadata": {},
   "source": [
    "## Cyklení skrz pole\n",
    "---"
   ]
  },
  {
   "cell_type": "code",
   "execution_count": 81,
   "id": "e643f3b5",
   "metadata": {},
   "outputs": [
    {
     "name": "stdout",
     "output_type": "stream",
     "text": [
      "0\n",
      "1\n",
      "2\n",
      "3\n",
      "4\n"
     ]
    }
   ],
   "source": [
    "a = np.arange(5)\n",
    "\n",
    "for i in a:\n",
    "    print(i)"
   ]
  },
  {
   "cell_type": "markdown",
   "id": "5701591b",
   "metadata": {},
   "source": [
    "u pole se jede primárně přes řádky"
   ]
  },
  {
   "cell_type": "code",
   "execution_count": 82,
   "id": "1073f014",
   "metadata": {
    "scrolled": true
   },
   "outputs": [
    {
     "name": "stdout",
     "output_type": "stream",
     "text": [
      "[1 2 3]\n",
      "[7 8 9]\n"
     ]
    }
   ],
   "source": [
    "A = np.array([[1, 2, 3], [7, 8, 9]])\n",
    "for row in A:\n",
    "    print(row)"
   ]
  },
  {
   "cell_type": "markdown",
   "id": "4aedd81f",
   "metadata": {},
   "source": [
    "cyklus přes všechny prvky pole  (flat vrací iterátor)"
   ]
  },
  {
   "cell_type": "code",
   "execution_count": 83,
   "id": "e5a95032",
   "metadata": {},
   "outputs": [
    {
     "name": "stdout",
     "output_type": "stream",
     "text": [
      "1\n",
      "2\n",
      "3\n",
      "7\n",
      "8\n",
      "9\n"
     ]
    }
   ],
   "source": [
    "for i in A.flat:\n",
    "    print(i)"
   ]
  },
  {
   "cell_type": "markdown",
   "id": "47fc86ec",
   "metadata": {},
   "source": [
    "## Broadcasting\n",
    "---"
   ]
  },
  {
   "cell_type": "code",
   "execution_count": null,
   "id": "c163c01d",
   "metadata": {},
   "outputs": [],
   "source": []
  },
  {
   "cell_type": "markdown",
   "id": "89e01d51",
   "metadata": {},
   "source": [
    "## Ufunkce\n",
    "---\n",
    "funkce pracující na polích\n",
    "[odkaz dokumentace](https://numpy.org/doc/stable/reference/ufuncs.html)"
   ]
  },
  {
   "cell_type": "code",
   "execution_count": 24,
   "id": "3f4ac1c6",
   "metadata": {},
   "outputs": [
    {
     "data": {
      "text/plain": [
       "array([ 1,  4,  9, 16])"
      ]
     },
     "execution_count": 24,
     "metadata": {},
     "output_type": "execute_result"
    }
   ],
   "source": [
    "a = np.array([1, 2, 3, 4])\n",
    "np.log(a)\n",
    "np.square(a)"
   ]
  },
  {
   "cell_type": "markdown",
   "id": "057a7170",
   "metadata": {},
   "source": [
    "## Hledání - indexy\n",
    "---"
   ]
  },
  {
   "cell_type": "markdown",
   "id": "6281c065",
   "metadata": {},
   "source": [
    "where  (podobně funguje třeba nonzero() )"
   ]
  },
  {
   "cell_type": "code",
   "execution_count": 27,
   "id": "614f1a3d",
   "metadata": {},
   "outputs": [
    {
     "data": {
      "text/plain": [
       "array([4, 5])"
      ]
     },
     "execution_count": 27,
     "metadata": {},
     "output_type": "execute_result"
    }
   ],
   "source": [
    "A = np.array([[1, 2, 3],[3, 4, 5]])\n",
    "ind = np.where(A > 3)\n",
    "ind\n",
    "\n",
    "A[ind]\n",
    "\n"
   ]
  },
  {
   "cell_type": "code",
   "execution_count": null,
   "id": "d0e6909f",
   "metadata": {},
   "outputs": [],
   "source": []
  },
  {
   "cell_type": "code",
   "execution_count": null,
   "id": "7b547aa1",
   "metadata": {},
   "outputs": [],
   "source": []
  },
  {
   "cell_type": "code",
   "execution_count": null,
   "id": "cfceb406",
   "metadata": {},
   "outputs": [],
   "source": []
  },
  {
   "cell_type": "code",
   "execution_count": null,
   "id": "74d35d09",
   "metadata": {},
   "outputs": [],
   "source": []
  },
  {
   "cell_type": "code",
   "execution_count": null,
   "id": "806483c1",
   "metadata": {},
   "outputs": [],
   "source": []
  },
  {
   "cell_type": "markdown",
   "id": "c2a34787",
   "metadata": {},
   "source": [
    "## Náhoda\n",
    "---\n",
    "nejprve specifikujeme náhodný generátor - good practice"
   ]
  },
  {
   "cell_type": "code",
   "execution_count": 4,
   "id": "a04205d4",
   "metadata": {},
   "outputs": [
    {
     "data": {
      "text/plain": [
       "0.22733602246716966"
      ]
     },
     "execution_count": 4,
     "metadata": {},
     "output_type": "execute_result"
    }
   ],
   "source": [
    "rng = np.random.default_rng(12345)  # seed\n",
    "rng.random()  # nahodny float "
   ]
  },
  {
   "cell_type": "markdown",
   "id": "279325e8",
   "metadata": {},
   "source": [
    "### integery"
   ]
  },
  {
   "cell_type": "code",
   "execution_count": 92,
   "id": "f9d97cab",
   "metadata": {},
   "outputs": [
    {
     "data": {
      "text/plain": [
       "array([5, 7, 2, 3, 2])"
      ]
     },
     "execution_count": 92,
     "metadata": {},
     "output_type": "execute_result"
    }
   ],
   "source": [
    "randints = rng.integers(1, 10, 5) # 5 nahodnych integeru z rozsahu 1 az 10 (ne vcetne)\n",
    "randints"
   ]
  },
  {
   "cell_type": "markdown",
   "id": "a6d983d8",
   "metadata": {},
   "source": [
    "### floaty"
   ]
  },
  {
   "cell_type": "code",
   "execution_count": 98,
   "id": "a5659990",
   "metadata": {},
   "outputs": [
    {
     "data": {
      "text/plain": [
       "0.8547419043740013"
      ]
     },
     "execution_count": 98,
     "metadata": {},
     "output_type": "execute_result"
    }
   ],
   "source": [
    "rng.random() # jedno cislo v [0, 1)"
   ]
  },
  {
   "cell_type": "code",
   "execution_count": 97,
   "id": "40f2dace",
   "metadata": {},
   "outputs": [
    {
     "data": {
      "text/plain": [
       "array([[0.1598956 , 0.34010018, 0.46519315],\n",
       "       [0.26642103, 0.8157764 , 0.19329439],\n",
       "       [0.12946908, 0.09166475, 0.59856801]])"
      ]
     },
     "execution_count": 97,
     "metadata": {},
     "output_type": "execute_result"
    }
   ],
   "source": [
    "rng.random((3, 3)) # matice nahodnych floatu 3x3, POZOR na zavorky"
   ]
  },
  {
   "cell_type": "markdown",
   "id": "fc9d0a54",
   "metadata": {},
   "source": [
    "### výběry"
   ]
  },
  {
   "cell_type": "code",
   "execution_count": 8,
   "id": "127ffeb0",
   "metadata": {},
   "outputs": [
    {
     "data": {
      "text/plain": [
       "array([2, 2, 2, 8])"
      ]
     },
     "execution_count": 8,
     "metadata": {},
     "output_type": "execute_result"
    }
   ],
   "source": [
    "a = np.arange(12)\n",
    "b = rng.choice(a, 4) # vyber 4 cisla s opakovanim !!!\n",
    "b"
   ]
  },
  {
   "cell_type": "code",
   "execution_count": 10,
   "id": "6ee0f0e1",
   "metadata": {},
   "outputs": [
    {
     "data": {
      "text/plain": [
       "array([ 7,  9,  8,  5,  1,  3, 10])"
      ]
     },
     "execution_count": 10,
     "metadata": {},
     "output_type": "execute_result"
    }
   ],
   "source": [
    "c = rng.choice(a, 7, replace=False)  # vyber bez opakovani\n",
    "c"
   ]
  },
  {
   "cell_type": "markdown",
   "id": "488bbf89",
   "metadata": {},
   "source": [
    "### permutace\n",
    "shuffle  (mění sekvenci na místě), permutation (vrací nové pole), lze použít i na 2D pole"
   ]
  },
  {
   "cell_type": "code",
   "execution_count": 107,
   "id": "38cb1d4e",
   "metadata": {},
   "outputs": [
    {
     "name": "stdout",
     "output_type": "stream",
     "text": [
      "[ 0  1  2  3  4  5  6  7  8  9 10 11]\n",
      "[ 2  9  7  6  8  4  0  5 10  1  3 11]\n"
     ]
    }
   ],
   "source": [
    "a = np.arange(12)\n",
    "print(a)\n",
    "rng.shuffle(a)\n",
    "print(a)"
   ]
  },
  {
   "cell_type": "code",
   "execution_count": 109,
   "id": "fb548583",
   "metadata": {},
   "outputs": [
    {
     "data": {
      "text/plain": [
       "array([[3, 4],\n",
       "       [5, 6],\n",
       "       [1, 2]])"
      ]
     },
     "execution_count": 109,
     "metadata": {},
     "output_type": "execute_result"
    }
   ],
   "source": [
    "A = np.array([[1, 2], [3, 4], [5, 6]])\n",
    "rng.shuffle(A, axis=0)\n",
    "A"
   ]
  },
  {
   "cell_type": "markdown",
   "id": "ee240988",
   "metadata": {},
   "source": [
    "### jiné distribuce\n",
    "lze použít hromadu jiných distribucí"
   ]
  },
  {
   "cell_type": "code",
   "execution_count": 112,
   "id": "11801e1a",
   "metadata": {},
   "outputs": [
    {
     "data": {
      "text/plain": [
       "array([6, 3, 7, 5, 5, 4, 4, 1, 4, 7, 8, 5, 5, 4, 8])"
      ]
     },
     "execution_count": 112,
     "metadata": {},
     "output_type": "execute_result"
    }
   ],
   "source": [
    "rng.binomial(10, 0.5, 15) # 15x testujeme kolikrat behem 10 pokusu hazeni ferovou minci padne orel"
   ]
  },
  {
   "cell_type": "code",
   "execution_count": null,
   "id": "ff943d9b",
   "metadata": {},
   "outputs": [],
   "source": []
  },
  {
   "cell_type": "code",
   "execution_count": null,
   "id": "04f2b076",
   "metadata": {},
   "outputs": [],
   "source": []
  },
  {
   "cell_type": "code",
   "execution_count": null,
   "id": "ee80d43b",
   "metadata": {},
   "outputs": [],
   "source": []
  },
  {
   "cell_type": "code",
   "execution_count": null,
   "id": "3d5a1737",
   "metadata": {},
   "outputs": [],
   "source": []
  },
  {
   "cell_type": "code",
   "execution_count": null,
   "id": "e3c15cae",
   "metadata": {},
   "outputs": [],
   "source": []
  },
  {
   "cell_type": "code",
   "execution_count": null,
   "id": "0a27d946",
   "metadata": {},
   "outputs": [],
   "source": []
  }
 ],
 "metadata": {
  "kernelspec": {
   "display_name": "venv",
   "language": "python",
   "name": "python3"
  },
  "language_info": {
   "codemirror_mode": {
    "name": "ipython",
    "version": 3
   },
   "file_extension": ".py",
   "mimetype": "text/x-python",
   "name": "python",
   "nbconvert_exporter": "python",
   "pygments_lexer": "ipython3",
   "version": "3.13.1"
  }
 },
 "nbformat": 4,
 "nbformat_minor": 5
}
