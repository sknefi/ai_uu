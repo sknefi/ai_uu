{
 "cells": [
  {
   "cell_type": "markdown",
   "id": "0e51b24f",
   "metadata": {},
   "source": [
    "# Neuronové sítě - učení s učitelem - klasifikace"
   ]
  },
  {
   "cell_type": "code",
   "execution_count": 15,
   "id": "e0825548",
   "metadata": {},
   "outputs": [
    {
     "ename": "ModuleNotFoundError",
     "evalue": "No module named 'tensorflow'",
     "output_type": "error",
     "traceback": [
      "\u001b[31m---------------------------------------------------------------------------\u001b[39m",
      "\u001b[31mModuleNotFoundError\u001b[39m                       Traceback (most recent call last)",
      "\u001b[36mCell\u001b[39m\u001b[36m \u001b[39m\u001b[32mIn[15]\u001b[39m\u001b[32m, line 1\u001b[39m\n\u001b[32m----> \u001b[39m\u001b[32m1\u001b[39m \u001b[38;5;28;01mimport\u001b[39;00m\u001b[38;5;250m \u001b[39m\u001b[34;01mtensorflow\u001b[39;00m\u001b[38;5;250m \u001b[39m\u001b[38;5;28;01mas\u001b[39;00m\u001b[38;5;250m \u001b[39m\u001b[34;01mtf\u001b[39;00m   \u001b[38;5;66;03m# nezapomeňte v Anaconda přepnout prostředí na tensorflow!!!\u001b[39;00m\n\u001b[32m      2\u001b[39m \u001b[38;5;66;03m#print(tf.__version__)  # tisk verze tensorflow\u001b[39;00m\n\u001b[32m      4\u001b[39m \u001b[38;5;28;01mimport\u001b[39;00m\u001b[38;5;250m \u001b[39m\u001b[34;01mnumpy\u001b[39;00m\u001b[38;5;250m \u001b[39m\u001b[38;5;28;01mas\u001b[39;00m\u001b[38;5;250m \u001b[39m\u001b[34;01mnp\u001b[39;00m\n",
      "\u001b[31mModuleNotFoundError\u001b[39m: No module named 'tensorflow'"
     ]
    }
   ],
   "source": [
    "import tensorflow as tf   # nezapomeňte v Anaconda přepnout prostředí na tensorflow!!!\n",
    "#print(tf.__version__)  # tisk verze tensorflow\n",
    "\n",
    "import numpy as np\n",
    "import matplotlib.pyplot as plt   # možná bude potřeba doinstalovat v novém prostředí!!!\n"
   ]
  },
  {
   "cell_type": "markdown",
   "id": "c3d05c36",
   "metadata": {},
   "source": [
    "## Load dataset\n",
    "---\n",
    "\n",
    "seznam datasetů v TensorFlow https://www.tensorflow.org/datasets/catalog/overview#all_datasets\n"
   ]
  },
  {
   "cell_type": "code",
   "execution_count": 3,
   "id": "219a380c",
   "metadata": {},
   "outputs": [
    {
     "name": "stdout",
     "output_type": "stream",
     "text": [
      "Downloading data from https://storage.googleapis.com/tensorflow/tf-keras-datasets/mnist.npz\n",
      "\u001b[1m11490434/11490434\u001b[0m \u001b[32m━━━━━━━━━━━━━━━━━━━━\u001b[0m\u001b[37m\u001b[0m \u001b[1m2s\u001b[0m 0us/step\n"
     ]
    }
   ],
   "source": [
    "#fashion_mnist = tf.keras.datasets.fashion_mnist\n",
    "fashion_mnist = tf.keras.datasets.mnist\n",
    "\n",
    "\n",
    "\n",
    "(train_images, train_labels), (test_images, test_labels) = fashion_mnist.load_data()\n"
   ]
  },
  {
   "cell_type": "code",
   "execution_count": null,
   "id": "516e533e",
   "metadata": {},
   "outputs": [],
   "source": [
    "train_images.shape  # rozměry trénovacích dat (počet, šířka obrázku, výška obrázku)\n",
    "test_images.shape   # rozměry testovacích dat\n",
    "\n",
    "train_images = train_images / 255.0   # normalizace dat - původní od 0 do 255\n",
    "test_images = test_images / 255.0\n",
    "\n",
    "# jména tříd\n",
    "#class_names = ['T-shirt/top', 'Trouser', 'Pullover', 'Dress', 'Coat',\n",
    "#              'Sandal', 'Shirt', 'Sneaker', 'Bag', 'Ankle boot']\n",
    "    \n",
    "class_names = ['0', '1', '2', '3', '4', '5', '6', '7', '8', '9']\n",
    "\n",
    "    "
   ]
  },
  {
   "cell_type": "code",
   "execution_count": null,
   "id": "19c4702d",
   "metadata": {
    "scrolled": true
   },
   "outputs": [],
   "source": [
    "# shows sample s and its class c\n",
    "def show_sample(s, c):\n",
    "\n",
    "    plt.figure()\n",
    "    plt.imshow(s, cmap=plt.cm.binary)\n",
    "    plt.colorbar()\n",
    "    plt.grid(False)\n",
    "    plt.title(c)\n",
    "    plt.show()\n",
    "    \n",
    "show_sample(train_images[0], class_names[train_labels[0]])    \n",
    "    "
   ]
  },
  {
   "cell_type": "code",
   "execution_count": null,
   "id": "1703b61c",
   "metadata": {
    "scrolled": true
   },
   "outputs": [],
   "source": [
    "for i in range(5):\n",
    "    show_sample(train_images[i], class_names[train_labels[i]])\n",
    "    "
   ]
  },
  {
   "cell_type": "markdown",
   "id": "c1f5b493",
   "metadata": {},
   "source": [
    "## Neuronová síť - stavba\n",
    "---\n",
    "různé typy vrstev v tf.keras.layers - (https://www.tensorflow.org/api_docs/python/tf/keras/layers)\n",
    "\n",
    "různé typy aktivačních funkcí - (https://www.tensorflow.org/api_docs/python/tf/keras/activations)"
   ]
  },
  {
   "cell_type": "code",
   "execution_count": null,
   "id": "9a37fd51",
   "metadata": {},
   "outputs": [],
   "source": [
    "model = tf.keras.Sequential([\n",
    "    tf.keras.layers.Flatten(input_shape=(28, 28)), # transformuje 2D obrazek do 1D vektoru\n",
    "    tf.keras.layers.Dense(128, activation='sigmoid'),\n",
    "    tf.keras.layers.Dense(10)\n",
    "])"
   ]
  },
  {
   "cell_type": "code",
   "execution_count": null,
   "id": "86e74e89",
   "metadata": {},
   "outputs": [],
   "source": [
    "# optimizer - způsob jakým se učíme z chyb na základě dat  \n",
    "# loss - měření chyby vstup-výstup, snažíme se minimalizovat\n",
    "# metrics - monitorování, jak nám jde trénování \n",
    "\n",
    "\n",
    "model.compile(optimizer='adam',\n",
    "              loss=tf.keras.losses.SparseCategoricalCrossentropy(from_logits=True),\n",
    "              metrics=['accuracy'])"
   ]
  },
  {
   "cell_type": "markdown",
   "id": "8ed49a7a",
   "metadata": {},
   "source": [
    "## Neuronové síť - učení\n",
    "---"
   ]
  },
  {
   "cell_type": "code",
   "execution_count": null,
   "id": "e3b4955b",
   "metadata": {},
   "outputs": [],
   "source": [
    "model.fit(train_images, train_labels, epochs=10)\n"
   ]
  },
  {
   "cell_type": "markdown",
   "id": "4056e143",
   "metadata": {},
   "source": [
    "## Neuronová síť - evaluace\n",
    "---"
   ]
  },
  {
   "cell_type": "code",
   "execution_count": null,
   "id": "6cdf794a",
   "metadata": {},
   "outputs": [],
   "source": [
    "test_loss, test_acc = model.evaluate(test_images,  test_labels, verbose=2)\n"
   ]
  },
  {
   "cell_type": "code",
   "execution_count": null,
   "id": "65e06017",
   "metadata": {},
   "outputs": [],
   "source": []
  },
  {
   "cell_type": "code",
   "execution_count": null,
   "id": "7cb101d4",
   "metadata": {},
   "outputs": [],
   "source": []
  },
  {
   "cell_type": "markdown",
   "id": "235cd4fc",
   "metadata": {},
   "source": [
    "## Neuronová síť - predikce\n",
    "---"
   ]
  },
  {
   "cell_type": "code",
   "execution_count": null,
   "id": "1b0958ba",
   "metadata": {},
   "outputs": [],
   "source": [
    "pr_model = tf.keras.Sequential([model, tf.keras.layers.Softmax()]) # přidání softmax vrstvy"
   ]
  },
  {
   "cell_type": "code",
   "execution_count": null,
   "id": "6f262d07",
   "metadata": {
    "scrolled": true
   },
   "outputs": [],
   "source": []
  },
  {
   "cell_type": "code",
   "execution_count": null,
   "id": "441aca65",
   "metadata": {},
   "outputs": [],
   "source": [
    "predictions = pr_model.predict(test_images)"
   ]
  },
  {
   "cell_type": "code",
   "execution_count": null,
   "id": "eaddfae2",
   "metadata": {},
   "outputs": [],
   "source": [
    "# zobrazí predikci vzorku číslo i\n",
    "def sample_predict(i, test_images, test_labels, predictions, class_names):\n",
    "    s = test_images[i]\n",
    "    c = class_names[test_labels[i]]\n",
    "    show_sample(s, c)\n",
    "    \n",
    "    print(\"Probabilities\")\n",
    "    print(\"------------\")\n",
    "    for j in range(len(class_names)):\n",
    "        print(class_names[j], \":\", np.round(predictions[i, j], 2))\n",
    "    \n",
    "    ind = np.argmax(predictions[i])\n",
    "    \n",
    "    print(\"------------\")\n",
    "    print(\"true class:\", c, \", predicted class:\", class_names[ind])"
   ]
  },
  {
   "cell_type": "code",
   "execution_count": null,
   "id": "23ace3a9",
   "metadata": {},
   "outputs": [],
   "source": [
    "sample_predict(102, test_images, test_labels, predictions, class_names)"
   ]
  },
  {
   "cell_type": "markdown",
   "id": "9968f412",
   "metadata": {},
   "source": [
    "## Otázky\n",
    "---"
   ]
  },
  {
   "cell_type": "markdown",
   "id": "421a40e1",
   "metadata": {},
   "source": [
    "- Kolik položek jednoho typu bylo klasifikováno správně? "
   ]
  },
  {
   "cell_type": "code",
   "execution_count": null,
   "id": "3dbab3bd",
   "metadata": {},
   "outputs": [],
   "source": []
  }
 ],
 "metadata": {
  "kernelspec": {
   "display_name": "Python 3 (ipykernel)",
   "language": "python",
   "name": "python3"
  },
  "language_info": {
   "codemirror_mode": {
    "name": "ipython",
    "version": 3
   },
   "file_extension": ".py",
   "mimetype": "text/x-python",
   "name": "python",
   "nbconvert_exporter": "python",
   "pygments_lexer": "ipython3",
   "version": "3.11.12"
  }
 },
 "nbformat": 4,
 "nbformat_minor": 5
}
