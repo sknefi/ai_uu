{
 "cells": [
  {
   "cell_type": "markdown",
   "id": "37eb8c34",
   "metadata": {},
   "source": [
    "# Úvod do Networkx\n",
    "- knihovna pro reprezentaci a analýzu grafů a sítí"
   ]
  },
  {
   "cell_type": "code",
   "execution_count": null,
   "id": "bb45579f",
   "metadata": {},
   "outputs": [],
   "source": [
    "import networkx as nx\n",
    "import matplotlib.pyplot as plt\n",
    "import matplotlib"
   ]
  },
  {
   "cell_type": "markdown",
   "id": "52f69732",
   "metadata": {},
   "source": [
    "## Inicializace grafu\n",
    "---"
   ]
  },
  {
   "cell_type": "code",
   "execution_count": null,
   "id": "27b0ee9a",
   "metadata": {},
   "outputs": [],
   "source": [
    "G = nx.Graph()"
   ]
  },
  {
   "cell_type": "markdown",
   "id": "83af47e3",
   "metadata": {},
   "source": [
    "## Vkládání do grafu\n",
    "---"
   ]
  },
  {
   "cell_type": "code",
   "execution_count": null,
   "id": "45d018b2",
   "metadata": {},
   "outputs": [],
   "source": [
    "G.add_node(1)    # po jednom \n",
    "G.add_nodes_from([2, 3, 4, 5])  # ze seznamu\n",
    "\n",
    "#G.add_nodes_from(range(2, 6))\n"
   ]
  },
  {
   "cell_type": "code",
   "execution_count": null,
   "id": "f2f46275",
   "metadata": {},
   "outputs": [],
   "source": [
    "G.add_edge(1, 2)   # po jedne\n",
    "G.add_edges_from([(1, 3), (3, 4), (2, 3), (2, 5), (1, 3), (3, 1)])  # ze seznamu dvojic\n"
   ]
  },
  {
   "cell_type": "markdown",
   "id": "915a0642",
   "metadata": {},
   "source": [
    "## Info o grafu\n",
    "---"
   ]
  },
  {
   "cell_type": "code",
   "execution_count": null,
   "id": "ed461909",
   "metadata": {},
   "outputs": [],
   "source": [
    "print(\"# vrcholu: \", G.number_of_nodes(), \"# hran:\", G.number_of_edges()) "
   ]
  },
  {
   "cell_type": "markdown",
   "id": "a7ba5894",
   "metadata": {},
   "source": [
    "### Sousedi"
   ]
  },
  {
   "cell_type": "code",
   "execution_count": null,
   "id": "fb19b119",
   "metadata": {},
   "outputs": [],
   "source": []
  },
  {
   "cell_type": "code",
   "execution_count": null,
   "id": "565a0031",
   "metadata": {},
   "outputs": [],
   "source": [
    "for i in G.neighbors(2):   # sousedi vrcholu 2\n",
    "    print(i)"
   ]
  },
  {
   "cell_type": "markdown",
   "id": "36e10e4a",
   "metadata": {},
   "source": [
    "### Existence hrany"
   ]
  },
  {
   "cell_type": "code",
   "execution_count": null,
   "id": "f80466fe",
   "metadata": {},
   "outputs": [],
   "source": [
    "G.has_edge(1, 2)  # existuje hrana mezi 1 a 2?"
   ]
  },
  {
   "cell_type": "markdown",
   "id": "ccf4af9c",
   "metadata": {},
   "source": [
    "## Generování náhodných grafů\n",
    "---"
   ]
  },
  {
   "cell_type": "code",
   "execution_count": null,
   "id": "52808ea0",
   "metadata": {},
   "outputs": [],
   "source": [
    "Ge = nx.erdos_renyi_graph(30, 0.15)\n",
    "Gw = nx.watts_strogatz_graph(30, 3, 0.1)\n",
    "Gb = nx.barabasi_albert_graph(30, 5)"
   ]
  },
  {
   "cell_type": "markdown",
   "id": "92847a8f",
   "metadata": {},
   "source": [
    "## Čtení grafu ze souboru\n",
    "---"
   ]
  },
  {
   "cell_type": "code",
   "execution_count": null,
   "id": "dab6cb04",
   "metadata": {},
   "outputs": [],
   "source": [
    "#G1 = nx.read_edgelist(\"path.to.file\")"
   ]
  },
  {
   "cell_type": "code",
   "execution_count": null,
   "id": "c08293b4",
   "metadata": {},
   "outputs": [],
   "source": [
    "#G2 = nx.read_gml(\"path.to.file\")"
   ]
  },
  {
   "cell_type": "markdown",
   "id": "6522acae",
   "metadata": {},
   "source": [
    "### Dimacs format"
   ]
  },
  {
   "cell_type": "code",
   "execution_count": null,
   "id": "2d2811da",
   "metadata": {},
   "outputs": [],
   "source": [
    "Gd = nx.Graph()\n",
    "\n",
    "\n",
    "def readdimacs(filename):\n",
    "\n",
    "    file = open(filename, 'r')\n",
    "    lines = file.readlines()\n",
    "    \n",
    "    Gd = nx.Graph()\n",
    "\n",
    "    for line in lines:\n",
    "        if line[0] == \"e\":\n",
    "            vs = [int(s) for s in line.split() if s.isdigit()]\n",
    "            Gd.add_edge(vs[0]-1, vs[1]-1)\n",
    "    return Gd\n",
    "\n",
    "Gd = readdimacs('dsjc125.9.col.txt')  \n"
   ]
  },
  {
   "cell_type": "code",
   "execution_count": null,
   "id": "2b5acce1",
   "metadata": {},
   "outputs": [],
   "source": [
    "print(\"# vrcholu: \", Gd.number_of_nodes(), \"# hran:\", Gd.number_of_edges()) "
   ]
  },
  {
   "cell_type": "markdown",
   "id": "43a1eb0c",
   "metadata": {},
   "source": [
    "## Kreslení grafů\n",
    "---"
   ]
  },
  {
   "cell_type": "code",
   "execution_count": null,
   "id": "7e4902fc",
   "metadata": {},
   "outputs": [],
   "source": [
    "G = nx.complete_graph(5)\n",
    "#nx.draw(G)\n",
    "\n",
    "# problém ve starší verzi NetworkX s kódem níže, Anaconda má starou verzi\n",
    "# conda uninstall networkx\n",
    "# pip install networkx\n",
    "\n",
    "# nebo použít nx.draw_networkx(G)\n",
    "\n",
    "nx.draw(G)\n",
    "#nx.draw(G, pos=nx.circular_layout(G))\n"
   ]
  },
  {
   "cell_type": "markdown",
   "id": "2d7cd8f0",
   "metadata": {},
   "source": [
    "### Barvičky a popisky"
   ]
  },
  {
   "cell_type": "code",
   "execution_count": null,
   "id": "38396183",
   "metadata": {},
   "outputs": [],
   "source": [
    "colornums = [0, 1, 0, 1, 0]\n",
    "colmap = ['salmon', 'skyblue']  # jak prevest cisla barev na barvy\n",
    "\n",
    "colors = [colmap[c] for c in colornums]\n",
    "\n",
    "\n",
    "nx.draw(G, node_color=colors, with_labels=True)\n"
   ]
  },
  {
   "cell_type": "markdown",
   "id": "f8a70087",
   "metadata": {},
   "source": [
    "## Cool kreslení\n",
    "---"
   ]
  },
  {
   "cell_type": "code",
   "execution_count": null,
   "id": "c4e81aa8",
   "metadata": {},
   "outputs": [],
   "source": [
    "import numpy as np\n",
    "\n",
    "rng = np.random.default_rng(12345)  # seed\n",
    "\n",
    "\n",
    "# bere na vstupu pole barev vrcholu poporade, cislum priradi nahodne barvy a vykresli graf\n",
    "def plot(G, cols):\n",
    "    k = np.max(cols)\n",
    "    symbols = ['0', '1', '2', '3', '4', '5', '6', '7', '8', '9', 'A', 'B', 'C', 'D', 'E', 'F']\n",
    "    colmap = [\"#\"+''.join(rng.choice(symbols, 6)) for i in range(k+1)]\n",
    "                          \n",
    "    colors = [colmap[c] for c in cols]\n",
    "    \n",
    "    nx.draw(G, node_color=colors, with_labels=True)"
   ]
  },
  {
   "cell_type": "markdown",
   "id": "62491bb4",
   "metadata": {},
   "source": [
    "## Zásobárna grafů na barvení\n",
    "---"
   ]
  },
  {
   "cell_type": "markdown",
   "id": "bd1126c9",
   "metadata": {},
   "source": [
    "- http://cedric.cnam.fr/~porumbed/graphs/"
   ]
  },
  {
   "cell_type": "code",
   "execution_count": null,
   "id": "276705a5",
   "metadata": {},
   "outputs": [],
   "source": [
    "G = nx.complete_graph(5)\n",
    "cols = [1, 2, 1, 4, 1]\n",
    "plot(G, cols)"
   ]
  },
  {
   "cell_type": "code",
   "execution_count": null,
   "id": "13113fc9",
   "metadata": {},
   "outputs": [],
   "source": []
  },
  {
   "cell_type": "code",
   "execution_count": null,
   "id": "268c983f-65b5-4008-8566-e4273308a589",
   "metadata": {},
   "outputs": [],
   "source": []
  }
 ],
 "metadata": {
  "kernelspec": {
   "display_name": "Python 3 (ipykernel)",
   "language": "python",
   "name": "python3"
  },
  "language_info": {
   "codemirror_mode": {
    "name": "ipython",
    "version": 3
   },
   "file_extension": ".py",
   "mimetype": "text/x-python",
   "name": "python",
   "nbconvert_exporter": "python",
   "pygments_lexer": "ipython3",
   "version": "3.9.7"
  }
 },
 "nbformat": 4,
 "nbformat_minor": 5
}
